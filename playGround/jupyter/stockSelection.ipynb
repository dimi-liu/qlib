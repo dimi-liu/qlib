{
 "cells": [
  {
   "cell_type": "code",
   "execution_count": 4,
   "metadata": {},
   "outputs": [
    {
     "name": "stderr",
     "output_type": "stream",
     "text": [
      "[17320:MainThread](2023-07-15 19:28:50,488) INFO - qlib.Initialization - [config.py:415] - default_conf: client.\n",
      "[17320:MainThread](2023-07-15 19:28:50,495) INFO - qlib.Initialization - [__init__.py:74] - qlib successfully initialized based on client settings.\n",
      "[17320:MainThread](2023-07-15 19:28:50,495) INFO - qlib.Initialization - [__init__.py:76] - data_path={'day': WindowsPath('F:/qlib_bin')}\n"
     ]
    }
   ],
   "source": [
    "import numpy as np\n",
    "import pandas as pd\n",
    "import qlib\n",
    "from pathlib import Path\n",
    "from qlib import data, model\n",
    "from qlib.constant import REG_CN  # 'cn'\n",
    "from qlib.data import D\n",
    "from qlib.data.filter import ExpressionDFilter,NameDFilter\n",
    "from qlib.utils import init_instance_by_config\n",
    "from qlib.config import C\n",
    "\n",
    "qlib.init(provider_uri={'day': Path(\"F:\\qlib_bin\")}, region=REG_CN)"
   ]
  },
  {
   "cell_type": "code",
   "execution_count": 9,
   "metadata": {},
   "outputs": [
    {
     "data": {
      "text/plain": [
       "array([Timestamp('2023-07-14 00:00:00'), Timestamp('2005-01-04 00:00:00')],\n",
       "      dtype=object)"
      ]
     },
     "execution_count": 9,
     "metadata": {},
     "output_type": "execute_result"
    }
   ],
   "source": [
    "# calendar max and min\n",
    "D.calendar(freq='day')[[-1,0]]"
   ]
  },
  {
   "cell_type": "code",
   "execution_count": 27,
   "metadata": {},
   "outputs": [
    {
     "data": {
      "text/plain": [
       "dict_keys(['SZ000001', 'SZ000002', 'SZ000009', 'SZ000012', 'SZ000016', 'SZ000021', 'SZ000022', 'SZ000024', 'SZ000027', 'SZ000029', 'SZ000031', 'SZ000036', 'SZ000039', 'SZ000060', 'SZ000061', 'SZ000063', 'SZ000066', 'SZ000068', 'SZ000069', 'SZ000088', 'SZ000089', 'SZ000096', 'SZ000100', 'SZ000157', 'SZ000400', 'SZ000401', 'SZ000402', 'SZ000406', 'SZ000410', 'SZ000420', 'SZ000423', 'SZ000425', 'SZ000429', 'SZ000488', 'SZ000498', 'SZ000503', 'SZ000507', 'SZ000511', 'SZ000518', 'SZ000520', 'SZ000527', 'SZ000528', 'SZ000532', 'SZ000533', 'SZ000539', 'SZ000541', 'SZ000543', 'SZ000550', 'SZ000559', 'SZ000562', 'SZ000568', 'SZ000571', 'SZ000573', 'SZ000581', 'SZ000601', 'SZ000612', 'SZ000623', 'SZ000625', 'SZ000629', 'SZ000630', 'SZ000636', 'SZ000651', 'SZ000659', 'SZ000666', 'SZ000680', 'SZ000682', 'SZ000698', 'SZ000708', 'SZ000709', 'SZ000717', 'SZ000725', 'SZ000726', 'SZ000727', 'SZ000729', 'SZ000733', 'SZ000735', 'SZ000737', 'SZ000758', 'SZ000763', 'SZ000767', 'SZ000778', 'SZ000780', 'SZ000786', 'SZ000792', 'SZ000800', 'SZ000806', 'SZ000807', 'SZ000817', 'SZ000822', 'SZ000823', 'SZ000825', 'SZ000828', 'SZ000831', 'SZ000839', 'SZ000858', 'SZ000866', 'SZ000875', 'SZ000878', 'SZ000886', 'SZ000895', 'SZ000898', 'SZ000900', 'SZ000912', 'SZ000916', 'SZ000917', 'SZ000920', 'SZ000921', 'SZ000927', 'SZ000930', 'SZ000932', 'SZ000933', 'SZ000937', 'SZ000939', 'SZ000949', 'SZ000956', 'SZ000959', 'SZ000960', 'SZ000962', 'SZ000968', 'SZ000970', 'SZ000983', 'SH600000', 'SH600001', 'SH600002', 'SH600004', 'SH600005', 'SH600006', 'SH600007', 'SH600008', 'SH600009', 'SH600010', 'SH600011', 'SH600012', 'SH600015', 'SH600016', 'SH600019', 'SH600020', 'SH600021', 'SH600022', 'SH600026', 'SH600028', 'SH600029', 'SH600030', 'SH600031', 'SH600033', 'SH600035', 'SH600036', 'SH600037', 'SH600050', 'SH600057', 'SH600058', 'SH600060', 'SH600068', 'SH600072', 'SH600073', 'SH600074', 'SH600078', 'SH600085', 'SH600087', 'SH600088', 'SH600089', 'SH600091', 'SH600096', 'SH600098', 'SH600100', 'SH600102', 'SH600103', 'SH600104', 'SH600108', 'SH600110', 'SH600115', 'SH600117', 'SH600121', 'SH600123', 'SH600126', 'SH600135', 'SH600138', 'SH600153', 'SH600166', 'SH600170', 'SH600171', 'SH600177', 'SH600183', 'SH600188', 'SH600190', 'SH600196', 'SH600198', 'SH600205', 'SH600207', 'SH600210', 'SH600215', 'SH600220', 'SH600221', 'SH600228', 'SH600231', 'SH600236', 'SH600256', 'SH600266', 'SH600269', 'SH600270', 'SH600271', 'SH600282', 'SH600296', 'SH600307', 'SH600308', 'SH600309', 'SH600320', 'SH600333', 'SH600348', 'SH600350', 'SH600357', 'SH600362', 'SH600377', 'SH600408', 'SH600428', 'SH600489', 'SH600500', 'SH600508', 'SH600519', 'SH600548', 'SH600569', 'SH600581', 'SH600583', 'SH600585', 'SH600591', 'SH600597', 'SH600598', 'SH600600', 'SH600601', 'SH600602', 'SH600608', 'SH600621', 'SH600630', 'SH600631', 'SH600635', 'SH600637', 'SH600638', 'SH600639', 'SH600641', 'SH600642', 'SH600643', 'SH600649', 'SH600652', 'SH600653', 'SH600654', 'SH600660', 'SH600662', 'SH600663', 'SH600674', 'SH600675', 'SH600688', 'SH600690', 'SH600694', 'SH600705', 'SH600707', 'SH600710', 'SH600717', 'SH600718', 'SH600724', 'SH600726', 'SH600739', 'SH600741', 'SH600744', 'SH600747', 'SH600748', 'SH600757', 'SH600761', 'SH600770', 'SH600779', 'SH600780', 'SH600790', 'SH600795', 'SH600797', 'SH600805', 'SH600808', 'SH600811', 'SH600812', 'SH600820', 'SH600832', 'SH600835', 'SH600838', 'SH600839', 'SH600851', 'SH600854', 'SH600863', 'SH600866', 'SH600868', 'SH600871', 'SH600874', 'SH600879', 'SH600881', 'SH600884', 'SH600886', 'SH600887', 'SH600894', 'SH600895', 'SH600900', 'SH600997', 'SH601607', 'SHT00018', 'SZ000059', 'SZ000099', 'SZ000538', 'SZ000607', 'SZ000618', 'SZ000975', 'SZ002024', 'SH600125', 'SH600200', 'SH600267', 'SH600380', 'SH600740', 'SH600786', 'SH600961', 'SZ000422', 'SZ000599', 'SZ000652', 'SZ000707', 'SZ000768', 'SZ000969', 'SH600027', 'SH600062', 'SH600331', 'SH600339', 'SH600383', 'SH600399', 'SH600418', 'SH600550', 'SZ000793', 'SZ000869', 'SZ000617', 'SZ000761', 'SZ000997', 'SH600132', 'SH600143', 'SH600151', 'SH600276', 'SH600299', 'SH600361', 'SH600406', 'SH600410', 'SH600415', 'SH600456', 'SH600460', 'SH600498', 'SH600521', 'SH600535', 'SH600549', 'SH600578', 'SH600588', 'SH600616', 'SH600627', 'SH600628', 'SH600655', 'SH600754', 'SH600809', 'SH600834', 'SH600875', 'SH600970', 'SH601988', 'SH601006', 'SZ000751', 'SZ000897', 'SZ002008', 'SZ002025', 'SZ002051', 'SZ002052', 'SH600018', 'SH600048', 'SH600066', 'SH600118', 'SH600150', 'SH600160', 'SH600161', 'SH600312', 'SH600316', 'SH600332', 'SH600432', 'SH600472', 'SH600497', 'SH600547', 'SH600596', 'SH600787', 'SH601001', 'SH601111', 'SH601398', 'SH601166', 'SH601628', 'SZ000046', 'SZ000690', 'SZ000829', 'SZ000876', 'SZ002069', 'SZ002078', 'SZ002083', 'SZ002097', 'SZ002106', 'SZ002110', 'SH600003', 'SH600017', 'SH600208', 'SH600219', 'SH600501', 'SH600528', 'SH600685', 'SH600837', 'SH600859', 'SH601002', 'SH601318', 'SH601328', 'SH601333', 'SH601588', 'SH601600', 'SH601666', 'SH601699', 'SH601872', 'SH601991', 'SH601998', 'SH601088', 'SH601857', 'SZ000338', 'SZ000572', 'SZ000718', 'SZ000951', 'SZ002122', 'SZ002128', 'SZ002142', 'SH600109', 'SH600111', 'SH600158', 'SH600325', 'SH600595', 'SH600611', 'SH600978', 'SH601003', 'SH601005', 'SH601009', 'SH601168', 'SH601169', 'SH601808', 'SH601919', 'SZ000301', 'SZ000667', 'SZ000686', 'SZ000728', 'SZ000755', 'SZ000783', 'SZ002146', 'SZ002155', 'SZ002202', 'SH600169', 'SH600376', 'SH600804', 'SH601390', 'SH601601', 'SH601866', 'SH601898', 'SH601918', 'SH601939', 'SZ002001', 'SZ002152', 'SH600251', 'SH600426', 'SH600664', 'SH600737', 'SH601186', 'SH601899', 'SH601958', 'SZ000685', 'SZ000999', 'SZ002028', 'SZ002038', 'SZ002194', 'SZ002242', 'SZ002244', 'SZ002269', 'SH600176', 'SH600216', 'SH600352', 'SH600395', 'SH600516', 'SH600518', 'SH600582', 'SH600782', 'SH600816', 'SH601727', 'SH601766', 'SZ000631', 'SZ002007', 'SZ002275', 'SH600239', 'SH600246', 'SH600369', 'SH600517', 'SH600648', 'SH600657', 'SH601099', 'SH601107', 'SH601618', 'SH601668', 'SZ000961', 'SZ002304', 'SH600300', 'SH600999', 'SH601117', 'SH601139', 'SH601179', 'SH601299', 'SH601688', 'SH601788', 'SH601801', 'SH601877', 'SH601888', 'SH601989', 'SZ000776', 'SZ002092', 'SZ002294', 'SZ002385', 'SZ002399', 'SZ002405', 'SZ002415', 'SZ002422', 'SH600481', 'SH600546', 'SH600703', 'SH600823', 'SH600893', 'SH601101', 'SH601106', 'SH601158', 'SH601268', 'SH601288', 'SH601369', 'SH601818', 'SZ000536', 'SZ002073', 'SZ002310', 'SZ002493', 'SZ002498', 'SZ002500', 'SH600971', 'SH600998', 'SH601018', 'SH601098', 'SH601118', 'SH601377', 'SH601519', 'SH601558', 'SH601717', 'SH601718', 'SH601933', 'SZ002299', 'SZ002344', 'SZ002378', 'SZ002431', 'SZ002594', 'SZ002603', 'SH600252', 'SH600259', 'SH600372', 'SH600783', 'SH600873', 'SH601216', 'SH601233', 'SH601258', 'SH601992', 'SZ000703', 'SZ002081', 'SZ002241', 'SZ002353', 'SZ002570', 'SH600315', 'SH600827', 'SH601336', 'SH601555', 'SH601566', 'SH601633', 'SH601669', 'SH601901', 'SH601928', 'SZ000596', 'SZ000750', 'SZ000883', 'SZ002236', 'SZ002375', 'SZ002673', 'SH600157', 'SH600340', 'SH601238', 'SH601800', 'SZ000156', 'SZ000656', 'SZ000963', 'SZ002450', 'SH600403', 'SH600436', 'SH603993', 'SZ000333', 'SZ000598', 'SZ000826', 'SZ002065', 'SZ002129', 'SZ002230', 'SZ002456', 'SZ002653', 'SH600079', 'SH601231', 'SH603000', 'SZ000413', 'SZ002252', 'SZ002292', 'SZ002400', 'SZ002410', 'SZ002416', 'SZ002429', 'SZ002465', 'SZ002470', 'SZ002475', 'SH600023', 'SH600277', 'SH600633', 'SH600867', 'SH600880', 'SH601225', 'SH601929', 'SH603699', 'SZ002153', 'SZ300015', 'SZ300017', 'SZ300024', 'SZ300027', 'SZ300058', 'SZ300070', 'SZ300124', 'SZ300133', 'SZ300146', 'SZ300251', 'SH600038', 'SH600373', 'SH600398', 'SH600485', 'SH600570', 'SH603288', 'SZ000166', 'SZ000738', 'SZ300003', 'SZ000712', 'SZ002736', 'SZ300002', 'SZ300059', 'SZ300104', 'SH600317', 'SH600958', 'SH601021', 'SH601969', 'SZ000415', 'SZ000540', 'SZ001979', 'SZ002195', 'SZ002739', 'SZ300144', 'SZ300315', 'SH600959', 'SH601016', 'SH601198', 'SH601211', 'SH601608', 'SH601985', 'SH603885', 'SZ000977', 'SZ002027', 'SZ002183', 'SZ002424', 'SZ002568', 'SZ300085', 'SZ300168', 'SH600061', 'SH600446', 'SH600606', 'SH600666', 'SH600704', 'SZ000008', 'SZ000555', 'SZ000627', 'SZ000671', 'SZ000938', 'SZ002049', 'SZ002074', 'SZ002085', 'SZ002131', 'SZ002174', 'SZ002426', 'SZ002466', 'SZ002714', 'SZ002797', 'SZ300033', 'SZ300072', 'SZ300182', 'SH600297', 'SH600482', 'SH601127', 'SH601155', 'SH601611', 'SZ002044', 'SZ002352', 'SZ002411', 'SZ002508', 'SZ002555', 'SZ002558', 'SZ002602', 'SZ002831', 'SZ002839', 'SZ002841', 'SH600233', 'SH600522', 'SH600682', 'SH600909', 'SH600919', 'SH600926', 'SH600977', 'SH601163', 'SH601229', 'SH601375', 'SH601881', 'SH601966', 'SH601997', 'SH603160', 'SH603858', 'SZ000723', 'SZ002460', 'SZ002468', 'SZ002572', 'SZ002601', 'SZ002608', 'SZ002624', 'SZ300122', 'SZ300136', 'SH600390', 'SH601012', 'SH601212', 'SH601228', 'SH601878', 'SH603799', 'SH603833', 'SZ001965', 'SZ002050', 'SZ002625', 'SZ002925', 'SZ300408', 'SZ300433', 'SH600025', 'SH600346', 'SH600438', 'SH600487', 'SH601108', 'SH601360', 'SH601828', 'SH601838', 'SH603260', 'SZ000408', 'SZ000553', 'SZ000661', 'SZ002032', 'SZ002120', 'SZ002179', 'SZ002271', 'SZ002311', 'SZ002773', 'SZ300142', 'SZ300296', 'SH600566', 'SH600760', 'SH601066', 'SH601138', 'SH603156', 'SH603259', 'SH603986', 'SZ002010', 'SZ002938', 'SZ002939', 'SZ002945', 'SZ300413', 'SZ300498', 'SH600733', 'SH601162', 'SH601298', 'SH601319', 'SH601577', 'SH603019', 'SZ002607', 'SZ002916', 'SZ002958', 'SZ300347', 'SH600848', 'SH600928', 'SH600968', 'SH600989', 'SH601236', 'SH601698', 'SH603501', 'SH603899'])"
      ]
     },
     "execution_count": 27,
     "metadata": {},
     "output_type": "execute_result"
    }
   ],
   "source": [
    "# 只看沪深两市\n",
    "sh = NameDFilter(name_rule_re = 'SH',fstart_time='2020-01-01', fend_time='2023-07-14')\n",
    "sz = NameDFilter(name_rule_re = 'SZ',fstart_time='2020-01-01', fend_time='2023-07-14')\n",
    "\n",
    "# 设置股票池\n",
    "all_shsz = D.instruments(market='all', filter_pipe=[sh,sz])\n",
    "shsz_dict = D.list_instruments(all_shsz).keys()\n",
    "shsz_dict\n"
   ]
  },
  {
   "cell_type": "code",
   "execution_count": 29,
   "metadata": {},
   "outputs": [],
   "source": [
    "# dataLoader to get data\n",
    "\"\"\"\n",
    "example_loader_config = {\n",
    "    'feature': (['expr_1', 'expr_2', ... , 'expr_n'],\n",
    "               ['name_1', 'name_2', ... , 'name_n']), # name list是经过_parse_fields_info()函数处理过才有的\n",
    "    ...,\n",
    "    'label':  (['expr_1', 'expr_2', ... , 'expr_n'],\n",
    "               ['name_1', 'name_2', ... , 'name_n']),    \n",
    "}\n",
    "\"\"\"\n",
    "from qlib.data.ops import Ts_Argmax\n",
    "\n",
    "\n",
    "factor = ([\"Corr(Rank($high),Rank($volumn),3)\"],[])\n",
    "\"($close-$open)/($high-$low+1e-12)\"\n",
    "label = ([],[])\n",
    "\n",
    "data_loader_conf = {\n",
    "    \"class\": \"QlibDataLoader\",\n",
    "    \"kwargs\": {\n",
    "        \"config\": {\n",
    "            \"feature\": factor,\n",
    "            \"label\": label,\n",
    "        },\n",
    "        \"filter_pipe\": [sh,sz],\n",
    "        \"freq\": 'day',\n",
    "        \"inst_processor\": inst_processor,\n",
    "    },\n",
    "}\n",
    "data_loader = init_instance_by_config(data_loader_conf)\n",
    "\n",
    "# # features, example from SH0000001\n",
    "# D.features(instruments=all_shsz, start_time='2020-01-01', end_time='2023-07-14', fields=['$close', '$factor', '$high']).head(50)\n",
    "\n",
    "\n",
    "# mkt_csi300 = D.instruments(market='all')\n",
    "# D.features(mkt_csi300, fields, start_time=start, end_time=end, freq='day')"
   ]
  },
  {
   "cell_type": "code",
   "execution_count": 2,
   "metadata": {},
   "outputs": [
    {
     "name": "stdout",
     "output_type": "stream",
     "text": [
      "[Timestamp('2018-01-02 00:00:00') Timestamp('2018-01-03 00:00:00')]\n"
     ]
    }
   ],
   "source": [
    "# 从calendar中读取 指定的频率和时间范围，查看数据的时间范围\n",
    "start,end = '2018-01-01','2023-02-28'\n",
    "cal_d = D.calendar(start_time=start, end_time=end, freq='day')\n",
    "print(cal_d[:2])\n",
    "\n",
    "# 初始化一个stook pool 从instruments中，指定 market 为文件名，读取个股code\n",
    "mkt_csi300 = D.instruments(market='csi300')   # {'market': 'all', 'filter_pipe': []}\n",
    "mkt_csi300_list = D.list_instruments(instruments=mkt_csi300, start_time=start, end_time=end, as_list=True)\n",
    "\n",
    "# 有filter api 用来过滤数据\n",
    "# expressionDFilter = ExpressionDFilter(rule_expression='$close>2000')\n",
    "# instruments = D.instruments(market='csi300', filter_pipe=[expressionDFilter])\n",
    "# D.list_instruments(instruments=instruments, start_time='2020-01-01', end_time='2020-09-25', as_list=True)\n"
   ]
  }
 ],
 "metadata": {
  "kernelspec": {
   "display_name": "finance",
   "language": "python",
   "name": "python3"
  },
  "language_info": {
   "codemirror_mode": {
    "name": "ipython",
    "version": 3
   },
   "file_extension": ".py",
   "mimetype": "text/x-python",
   "name": "python",
   "nbconvert_exporter": "python",
   "pygments_lexer": "ipython3",
   "version": "3.8.5"
  },
  "orig_nbformat": 4
 },
 "nbformat": 4,
 "nbformat_minor": 2
}
