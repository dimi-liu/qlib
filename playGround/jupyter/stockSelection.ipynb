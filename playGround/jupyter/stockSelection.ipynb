{
 "cells": [
  {
   "cell_type": "code",
   "execution_count": 1,
   "metadata": {},
   "outputs": [
    {
     "name": "stderr",
     "output_type": "stream",
     "text": [
      "[27604:MainThread](2023-08-03 21:18:50,775) INFO - qlib.Initialization - [config.py:415] - default_conf: client.\n",
      "[27604:MainThread](2023-08-03 21:18:51,232) INFO - qlib.Initialization - [__init__.py:74] - qlib successfully initialized based on client settings.\n",
      "[27604:MainThread](2023-08-03 21:18:51,233) INFO - qlib.Initialization - [__init__.py:76] - data_path={'day': WindowsPath('F:/qlib_bin')}\n"
     ]
    },
    {
     "data": {
      "text/plain": [
       "array([Timestamp('2023-07-14 00:00:00'), Timestamp('2005-01-04 00:00:00')],\n",
       "      dtype=object)"
      ]
     },
     "execution_count": 1,
     "metadata": {},
     "output_type": "execute_result"
    }
   ],
   "source": [
    "import platform\n",
    "from qlib.contrib.data.handler import check_transform_proc\n",
    "import qlib\n",
    "from pathlib import Path\n",
    "from qlib import data, model\n",
    "from qlib.constant import REG_CN  # 'cn'\n",
    "from qlib.data import D\n",
    "from qlib.data.filter import ExpressionDFilter,NameDFilter\n",
    "from qlib.utils import init_instance_by_config\n",
    "from qlib.config import C\n",
    "\n",
    "path = \"F:\\qlib_bin\" if platform.node() == 'dimi-pc' else \"D:\\qlib_bin\"\n",
    "qlib.init(provider_uri={'day': Path(path)}, region=REG_CN)\n",
    "# calendar max and min\n",
    "D.calendar(freq='day')[[-1,0]]"
   ]
  },
  {
   "cell_type": "code",
   "execution_count": 2,
   "metadata": {},
   "outputs": [],
   "source": [
    "# 只看沪深两市\n",
    "sh = NameDFilter(name_rule_re = 'SH',fstart_time='2020-01-01', fend_time='2023-07-14')\n",
    "sz = NameDFilter(name_rule_re = 'SZ',fstart_time='2020-01-01', fend_time='2023-07-14')\n",
    "\n",
    "# 设置股票池\n",
    "# all_shsz = D.instruments(market='all', filter_pipe=[sh,sz])\n"
   ]
  },
  {
   "cell_type": "code",
   "execution_count": 26,
   "metadata": {},
   "outputs": [
    {
     "data": {
      "text/plain": [
       "[{'class': 'ProcessInf', 'kwargs': {}},\n",
       " {'class': 'ZScoreNorm',\n",
       "  'kwargs': {'fit_start_time': '2020-01-01', 'fit_end_time': '2020-01-31'}},\n",
       " {'class': 'Fillna', 'kwargs': {}}]"
      ]
     },
     "execution_count": 26,
     "metadata": {},
     "output_type": "execute_result"
    }
   ],
   "source": [
    "infer_proc"
   ]
  },
  {
   "cell_type": "code",
   "execution_count": 37,
   "metadata": {},
   "outputs": [
    {
     "ename": "TypeError",
     "evalue": "__init__() missing 1 required positional argument: 'N'",
     "output_type": "error",
     "traceback": [
      "\u001b[1;31m---------------------------------------------------------------------------\u001b[0m",
      "\u001b[1;31mRemoteTraceback\u001b[0m                           Traceback (most recent call last)",
      "\u001b[1;31mRemoteTraceback\u001b[0m: \n\"\"\"\nTraceback (most recent call last):\n  File \"d:\\anaconda3\\envs\\finance\\lib\\multiprocessing\\pool.py\", line 125, in worker\n    result = (True, func(*args, **kwds))\n  File \"d:\\anaconda3\\envs\\finance\\lib\\site-packages\\joblib\\_parallel_backends.py\", line 620, in __call__\n    return self.func(*args, **kwargs)\n  File \"d:\\anaconda3\\envs\\finance\\lib\\site-packages\\joblib\\parallel.py\", line 288, in __call__\n    return [func(*args, **kwargs)\n  File \"d:\\anaconda3\\envs\\finance\\lib\\site-packages\\joblib\\parallel.py\", line 288, in <listcomp>\n    return [func(*args, **kwargs)\n  File \"d:\\anaconda3\\envs\\finance\\lib\\site-packages\\qlib\\data\\data.py\", line 616, in inst_calculator\n    obj[field] = ExpressionD.expression(inst, field, start_time, end_time, freq)\n  File \"d:\\anaconda3\\envs\\finance\\lib\\site-packages\\qlib\\data\\data.py\", line 845, in expression\n    expression = self.get_expression_instance(field)\n  File \"d:\\anaconda3\\envs\\finance\\lib\\site-packages\\qlib\\data\\data.py\", line 397, in get_expression_instance\n    expression = eval(parse_field(field))\n  File \"<string>\", line 1, in <module>\nTypeError: __init__() missing 1 required positional argument: 'N'\n\"\"\"",
      "\nThe above exception was the direct cause of the following exception:\n",
      "\u001b[1;31mTypeError\u001b[0m                                 Traceback (most recent call last)",
      "\u001b[1;32me:\\github\\qlib\\playGround\\jupyter\\stockSelection.ipynb 单元格 4\u001b[0m in \u001b[0;36m<cell line: 92>\u001b[1;34m()\u001b[0m\n\u001b[0;32m     <a href='vscode-notebook-cell:/e%3A/github/qlib/playGround/jupyter/stockSelection.ipynb#X14sZmlsZQ%3D%3D?line=64'>65</a>\u001b[0m datahandler_config \u001b[39m=\u001b[39m {\n\u001b[0;32m     <a href='vscode-notebook-cell:/e%3A/github/qlib/playGround/jupyter/stockSelection.ipynb#X14sZmlsZQ%3D%3D?line=65'>66</a>\u001b[0m     \u001b[39m\"\u001b[39m\u001b[39mclass\u001b[39m\u001b[39m\"\u001b[39m: \u001b[39m\"\u001b[39m\u001b[39mDataHandlerLP\u001b[39m\u001b[39m\"\u001b[39m,\n\u001b[0;32m     <a href='vscode-notebook-cell:/e%3A/github/qlib/playGround/jupyter/stockSelection.ipynb#X14sZmlsZQ%3D%3D?line=66'>67</a>\u001b[0m     \u001b[39m\"\u001b[39m\u001b[39mmodule_path\u001b[39m\u001b[39m\"\u001b[39m: \u001b[39m\"\u001b[39m\u001b[39mqlib.data.dataset.handler\u001b[39m\u001b[39m\"\u001b[39m,\n\u001b[1;32m   (...)\u001b[0m\n\u001b[0;32m     <a href='vscode-notebook-cell:/e%3A/github/qlib/playGround/jupyter/stockSelection.ipynb#X14sZmlsZQ%3D%3D?line=75'>76</a>\u001b[0m     }\n\u001b[0;32m     <a href='vscode-notebook-cell:/e%3A/github/qlib/playGround/jupyter/stockSelection.ipynb#X14sZmlsZQ%3D%3D?line=76'>77</a>\u001b[0m }\n\u001b[0;32m     <a href='vscode-notebook-cell:/e%3A/github/qlib/playGround/jupyter/stockSelection.ipynb#X14sZmlsZQ%3D%3D?line=78'>79</a>\u001b[0m dataset_config \u001b[39m=\u001b[39m {\n\u001b[0;32m     <a href='vscode-notebook-cell:/e%3A/github/qlib/playGround/jupyter/stockSelection.ipynb#X14sZmlsZQ%3D%3D?line=79'>80</a>\u001b[0m     \u001b[39m\"\u001b[39m\u001b[39mclass\u001b[39m\u001b[39m\"\u001b[39m: \u001b[39m\"\u001b[39m\u001b[39mDatasetH\u001b[39m\u001b[39m\"\u001b[39m,\n\u001b[0;32m     <a href='vscode-notebook-cell:/e%3A/github/qlib/playGround/jupyter/stockSelection.ipynb#X14sZmlsZQ%3D%3D?line=80'>81</a>\u001b[0m     \u001b[39m\"\u001b[39m\u001b[39mmodule_path\u001b[39m\u001b[39m\"\u001b[39m: \u001b[39m\"\u001b[39m\u001b[39mqlib.data.dataset\u001b[39m\u001b[39m\"\u001b[39m,\n\u001b[1;32m   (...)\u001b[0m\n\u001b[0;32m     <a href='vscode-notebook-cell:/e%3A/github/qlib/playGround/jupyter/stockSelection.ipynb#X14sZmlsZQ%3D%3D?line=88'>89</a>\u001b[0m \n\u001b[0;32m     <a href='vscode-notebook-cell:/e%3A/github/qlib/playGround/jupyter/stockSelection.ipynb#X14sZmlsZQ%3D%3D?line=89'>90</a>\u001b[0m }\n\u001b[1;32m---> <a href='vscode-notebook-cell:/e%3A/github/qlib/playGround/jupyter/stockSelection.ipynb#X14sZmlsZQ%3D%3D?line=91'>92</a>\u001b[0m datahandler \u001b[39m=\u001b[39m init_instance_by_config(datahandler_config)\n",
      "File \u001b[1;32md:\\anaconda3\\envs\\finance\\lib\\site-packages\\qlib\\utils\\__init__.py:443\u001b[0m, in \u001b[0;36minit_instance_by_config\u001b[1;34m(config, default_module, accept_types, try_kwargs, **kwargs)\u001b[0m\n\u001b[0;32m    438\u001b[0m     \u001b[39mreturn\u001b[39;00m klass(\u001b[39m*\u001b[39m\u001b[39m*\u001b[39mcls_kwargs, \u001b[39m*\u001b[39m\u001b[39m*\u001b[39mtry_kwargs, \u001b[39m*\u001b[39m\u001b[39m*\u001b[39mkwargs)\n\u001b[0;32m    439\u001b[0m \u001b[39mexcept\u001b[39;00m (\u001b[39mTypeError\u001b[39;00m,):\n\u001b[0;32m    440\u001b[0m     \u001b[39m# TypeError for handling errors like\u001b[39;00m\n\u001b[0;32m    441\u001b[0m     \u001b[39m# 1: `XXX() got multiple values for keyword argument 'YYY'`\u001b[39;00m\n\u001b[0;32m    442\u001b[0m     \u001b[39m# 2: `XXX() got an unexpected keyword argument 'YYY'\u001b[39;00m\n\u001b[1;32m--> 443\u001b[0m     \u001b[39mreturn\u001b[39;00m klass(\u001b[39m*\u001b[39;49m\u001b[39m*\u001b[39;49mcls_kwargs, \u001b[39m*\u001b[39;49m\u001b[39m*\u001b[39;49mkwargs)\n",
      "File \u001b[1;32md:\\anaconda3\\envs\\finance\\lib\\site-packages\\qlib\\data\\dataset\\handler.py:446\u001b[0m, in \u001b[0;36mDataHandlerLP.__init__\u001b[1;34m(self, instruments, start_time, end_time, data_loader, infer_processors, learn_processors, shared_processors, process_type, drop_raw, **kwargs)\u001b[0m\n\u001b[0;32m    444\u001b[0m \u001b[39mself\u001b[39m\u001b[39m.\u001b[39mprocess_type \u001b[39m=\u001b[39m process_type\n\u001b[0;32m    445\u001b[0m \u001b[39mself\u001b[39m\u001b[39m.\u001b[39mdrop_raw \u001b[39m=\u001b[39m drop_raw\n\u001b[1;32m--> 446\u001b[0m \u001b[39msuper\u001b[39;49m()\u001b[39m.\u001b[39;49m\u001b[39m__init__\u001b[39;49m(instruments, start_time, end_time, data_loader, \u001b[39m*\u001b[39;49m\u001b[39m*\u001b[39;49mkwargs)\n",
      "File \u001b[1;32md:\\anaconda3\\envs\\finance\\lib\\site-packages\\qlib\\data\\dataset\\handler.py:97\u001b[0m, in \u001b[0;36mDataHandler.__init__\u001b[1;34m(self, instruments, start_time, end_time, data_loader, init_data, fetch_orig)\u001b[0m\n\u001b[0;32m     95\u001b[0m \u001b[39mif\u001b[39;00m init_data:\n\u001b[0;32m     96\u001b[0m     \u001b[39mwith\u001b[39;00m TimeInspector\u001b[39m.\u001b[39mlogt(\u001b[39m\"\u001b[39m\u001b[39mInit data\u001b[39m\u001b[39m\"\u001b[39m):\n\u001b[1;32m---> 97\u001b[0m         \u001b[39mself\u001b[39;49m\u001b[39m.\u001b[39;49msetup_data()\n\u001b[0;32m     98\u001b[0m \u001b[39msuper\u001b[39m()\u001b[39m.\u001b[39m\u001b[39m__init__\u001b[39m()\n",
      "File \u001b[1;32md:\\anaconda3\\envs\\finance\\lib\\site-packages\\qlib\\data\\dataset\\handler.py:588\u001b[0m, in \u001b[0;36mDataHandlerLP.setup_data\u001b[1;34m(self, init_type, **kwargs)\u001b[0m\n\u001b[0;32m    572\u001b[0m \u001b[39m\"\"\"\u001b[39;00m\n\u001b[0;32m    573\u001b[0m \u001b[39mSet up the data in case of running initialization for multiple time\u001b[39;00m\n\u001b[0;32m    574\u001b[0m \n\u001b[1;32m   (...)\u001b[0m\n\u001b[0;32m    585\u001b[0m \u001b[39m        when we call `init` next time\u001b[39;00m\n\u001b[0;32m    586\u001b[0m \u001b[39m\"\"\"\u001b[39;00m\n\u001b[0;32m    587\u001b[0m \u001b[39m# init raw data\u001b[39;00m\n\u001b[1;32m--> 588\u001b[0m \u001b[39msuper\u001b[39;49m()\u001b[39m.\u001b[39;49msetup_data(\u001b[39m*\u001b[39;49m\u001b[39m*\u001b[39;49mkwargs)\n\u001b[0;32m    590\u001b[0m \u001b[39mwith\u001b[39;00m TimeInspector\u001b[39m.\u001b[39mlogt(\u001b[39m\"\u001b[39m\u001b[39mfit & process data\u001b[39m\u001b[39m\"\u001b[39m):\n\u001b[0;32m    591\u001b[0m     \u001b[39mif\u001b[39;00m init_type \u001b[39m==\u001b[39m DataHandlerLP\u001b[39m.\u001b[39mIT_FIT_IND:\n",
      "File \u001b[1;32md:\\anaconda3\\envs\\finance\\lib\\site-packages\\qlib\\data\\dataset\\handler.py:141\u001b[0m, in \u001b[0;36mDataHandler.setup_data\u001b[1;34m(self, enable_cache)\u001b[0m\n\u001b[0;32m    137\u001b[0m \u001b[39m# Setup data.\u001b[39;00m\n\u001b[0;32m    138\u001b[0m \u001b[39m# _data may be with multiple column index level. The outer level indicates the feature set name\u001b[39;00m\n\u001b[0;32m    139\u001b[0m \u001b[39mwith\u001b[39;00m TimeInspector\u001b[39m.\u001b[39mlogt(\u001b[39m\"\u001b[39m\u001b[39mLoading data\u001b[39m\u001b[39m\"\u001b[39m):\n\u001b[0;32m    140\u001b[0m     \u001b[39m# make sure the fetch method is based on an index-sorted pd.DataFrame\u001b[39;00m\n\u001b[1;32m--> 141\u001b[0m     \u001b[39mself\u001b[39m\u001b[39m.\u001b[39m_data \u001b[39m=\u001b[39m lazy_sort_index(\u001b[39mself\u001b[39;49m\u001b[39m.\u001b[39;49mdata_loader\u001b[39m.\u001b[39;49mload(\u001b[39mself\u001b[39;49m\u001b[39m.\u001b[39;49minstruments, \u001b[39mself\u001b[39;49m\u001b[39m.\u001b[39;49mstart_time, \u001b[39mself\u001b[39;49m\u001b[39m.\u001b[39;49mend_time))\n",
      "File \u001b[1;32md:\\anaconda3\\envs\\finance\\lib\\site-packages\\qlib\\data\\dataset\\loader.py:135\u001b[0m, in \u001b[0;36mDLWParser.load\u001b[1;34m(self, instruments, start_time, end_time)\u001b[0m\n\u001b[0;32m    132\u001b[0m \u001b[39mdef\u001b[39;00m \u001b[39mload\u001b[39m(\u001b[39mself\u001b[39m, instruments\u001b[39m=\u001b[39m\u001b[39mNone\u001b[39;00m, start_time\u001b[39m=\u001b[39m\u001b[39mNone\u001b[39;00m, end_time\u001b[39m=\u001b[39m\u001b[39mNone\u001b[39;00m) \u001b[39m-\u001b[39m\u001b[39m>\u001b[39m pd\u001b[39m.\u001b[39mDataFrame:\n\u001b[0;32m    133\u001b[0m     \u001b[39mif\u001b[39;00m \u001b[39mself\u001b[39m\u001b[39m.\u001b[39mis_group:\n\u001b[0;32m    134\u001b[0m         df \u001b[39m=\u001b[39m pd\u001b[39m.\u001b[39mconcat(\n\u001b[1;32m--> 135\u001b[0m             {\n\u001b[0;32m    136\u001b[0m                 grp: \u001b[39mself\u001b[39m\u001b[39m.\u001b[39mload_group_df(instruments, exprs, names, start_time, end_time, grp)\n\u001b[0;32m    137\u001b[0m                 \u001b[39mfor\u001b[39;00m grp, (exprs, names) \u001b[39min\u001b[39;00m \u001b[39mself\u001b[39m\u001b[39m.\u001b[39mfields\u001b[39m.\u001b[39mitems()\n\u001b[0;32m    138\u001b[0m             },\n\u001b[0;32m    139\u001b[0m             axis\u001b[39m=\u001b[39m\u001b[39m1\u001b[39m,\n\u001b[0;32m    140\u001b[0m         )\n\u001b[0;32m    141\u001b[0m     \u001b[39melse\u001b[39;00m:\n\u001b[0;32m    142\u001b[0m         exprs, names \u001b[39m=\u001b[39m \u001b[39mself\u001b[39m\u001b[39m.\u001b[39mfields\n",
      "File \u001b[1;32md:\\anaconda3\\envs\\finance\\lib\\site-packages\\qlib\\data\\dataset\\loader.py:136\u001b[0m, in \u001b[0;36m<dictcomp>\u001b[1;34m(.0)\u001b[0m\n\u001b[0;32m    132\u001b[0m \u001b[39mdef\u001b[39;00m \u001b[39mload\u001b[39m(\u001b[39mself\u001b[39m, instruments\u001b[39m=\u001b[39m\u001b[39mNone\u001b[39;00m, start_time\u001b[39m=\u001b[39m\u001b[39mNone\u001b[39;00m, end_time\u001b[39m=\u001b[39m\u001b[39mNone\u001b[39;00m) \u001b[39m-\u001b[39m\u001b[39m>\u001b[39m pd\u001b[39m.\u001b[39mDataFrame:\n\u001b[0;32m    133\u001b[0m     \u001b[39mif\u001b[39;00m \u001b[39mself\u001b[39m\u001b[39m.\u001b[39mis_group:\n\u001b[0;32m    134\u001b[0m         df \u001b[39m=\u001b[39m pd\u001b[39m.\u001b[39mconcat(\n\u001b[0;32m    135\u001b[0m             {\n\u001b[1;32m--> 136\u001b[0m                 grp: \u001b[39mself\u001b[39;49m\u001b[39m.\u001b[39;49mload_group_df(instruments, exprs, names, start_time, end_time, grp)\n\u001b[0;32m    137\u001b[0m                 \u001b[39mfor\u001b[39;00m grp, (exprs, names) \u001b[39min\u001b[39;00m \u001b[39mself\u001b[39m\u001b[39m.\u001b[39mfields\u001b[39m.\u001b[39mitems()\n\u001b[0;32m    138\u001b[0m             },\n\u001b[0;32m    139\u001b[0m             axis\u001b[39m=\u001b[39m\u001b[39m1\u001b[39m,\n\u001b[0;32m    140\u001b[0m         )\n\u001b[0;32m    141\u001b[0m     \u001b[39melse\u001b[39;00m:\n\u001b[0;32m    142\u001b[0m         exprs, names \u001b[39m=\u001b[39m \u001b[39mself\u001b[39m\u001b[39m.\u001b[39mfields\n",
      "File \u001b[1;32md:\\anaconda3\\envs\\finance\\lib\\site-packages\\qlib\\data\\dataset\\loader.py:211\u001b[0m, in \u001b[0;36mQlibDataLoader.load_group_df\u001b[1;34m(self, instruments, exprs, names, start_time, end_time, gp_name)\u001b[0m\n\u001b[0;32m    208\u001b[0m     warnings\u001b[39m.\u001b[39mwarn(\u001b[39m\"\u001b[39m\u001b[39m`filter_pipe` is not None, but it will not be used with `instruments` as list\u001b[39m\u001b[39m\"\u001b[39m)\n\u001b[0;32m    210\u001b[0m freq \u001b[39m=\u001b[39m \u001b[39mself\u001b[39m\u001b[39m.\u001b[39mfreq[gp_name] \u001b[39mif\u001b[39;00m \u001b[39misinstance\u001b[39m(\u001b[39mself\u001b[39m\u001b[39m.\u001b[39mfreq, \u001b[39mdict\u001b[39m) \u001b[39melse\u001b[39;00m \u001b[39mself\u001b[39m\u001b[39m.\u001b[39mfreq\n\u001b[1;32m--> 211\u001b[0m df \u001b[39m=\u001b[39m D\u001b[39m.\u001b[39;49mfeatures(\n\u001b[0;32m    212\u001b[0m     instruments, exprs, start_time, end_time, freq\u001b[39m=\u001b[39;49mfreq, inst_processors\u001b[39m=\u001b[39;49m\u001b[39mself\u001b[39;49m\u001b[39m.\u001b[39;49minst_processor\u001b[39m.\u001b[39;49mget(gp_name, [])\n\u001b[0;32m    213\u001b[0m )\n\u001b[0;32m    214\u001b[0m df\u001b[39m.\u001b[39mcolumns \u001b[39m=\u001b[39m names\n\u001b[0;32m    215\u001b[0m \u001b[39mif\u001b[39;00m \u001b[39mself\u001b[39m\u001b[39m.\u001b[39mswap_level:\n",
      "File \u001b[1;32md:\\anaconda3\\envs\\finance\\lib\\site-packages\\qlib\\data\\data.py:1192\u001b[0m, in \u001b[0;36mBaseProvider.features\u001b[1;34m(self, instruments, fields, start_time, end_time, freq, disk_cache, inst_processors)\u001b[0m\n\u001b[0;32m   1188\u001b[0m     \u001b[39mreturn\u001b[39;00m DatasetD\u001b[39m.\u001b[39mdataset(\n\u001b[0;32m   1189\u001b[0m         instruments, fields, start_time, end_time, freq, disk_cache, inst_processors\u001b[39m=\u001b[39minst_processors\n\u001b[0;32m   1190\u001b[0m     )\n\u001b[0;32m   1191\u001b[0m \u001b[39mexcept\u001b[39;00m \u001b[39mTypeError\u001b[39;00m:\n\u001b[1;32m-> 1192\u001b[0m     \u001b[39mreturn\u001b[39;00m DatasetD\u001b[39m.\u001b[39;49mdataset(instruments, fields, start_time, end_time, freq, inst_processors\u001b[39m=\u001b[39;49minst_processors)\n",
      "File \u001b[1;32md:\\anaconda3\\envs\\finance\\lib\\site-packages\\qlib\\data\\data.py:924\u001b[0m, in \u001b[0;36mLocalDatasetProvider.dataset\u001b[1;34m(self, instruments, fields, start_time, end_time, freq, inst_processors)\u001b[0m\n\u001b[0;32m    922\u001b[0m     start_time \u001b[39m=\u001b[39m cal[\u001b[39m0\u001b[39m]\n\u001b[0;32m    923\u001b[0m     end_time \u001b[39m=\u001b[39m cal[\u001b[39m-\u001b[39m\u001b[39m1\u001b[39m]\n\u001b[1;32m--> 924\u001b[0m data \u001b[39m=\u001b[39m \u001b[39mself\u001b[39;49m\u001b[39m.\u001b[39;49mdataset_processor(\n\u001b[0;32m    925\u001b[0m     instruments_d, column_names, start_time, end_time, freq, inst_processors\u001b[39m=\u001b[39;49minst_processors\n\u001b[0;32m    926\u001b[0m )\n\u001b[0;32m    928\u001b[0m \u001b[39mreturn\u001b[39;00m data\n",
      "File \u001b[1;32md:\\anaconda3\\envs\\finance\\lib\\site-packages\\qlib\\data\\data.py:578\u001b[0m, in \u001b[0;36mDatasetProvider.dataset_processor\u001b[1;34m(instruments_d, column_names, start_time, end_time, freq, inst_processors)\u001b[0m\n\u001b[0;32m    568\u001b[0m     inst_l\u001b[39m.\u001b[39mappend(inst)\n\u001b[0;32m    569\u001b[0m     task_l\u001b[39m.\u001b[39mappend(\n\u001b[0;32m    570\u001b[0m         delayed(DatasetProvider\u001b[39m.\u001b[39minst_calculator)(\n\u001b[0;32m    571\u001b[0m             inst, start_time, end_time, freq, normalize_column_names, spans, C, inst_processors\n\u001b[0;32m    572\u001b[0m         )\n\u001b[0;32m    573\u001b[0m     )\n\u001b[0;32m    575\u001b[0m data \u001b[39m=\u001b[39m \u001b[39mdict\u001b[39m(\n\u001b[0;32m    576\u001b[0m     \u001b[39mzip\u001b[39m(\n\u001b[0;32m    577\u001b[0m         inst_l,\n\u001b[1;32m--> 578\u001b[0m         ParallelExt(n_jobs\u001b[39m=\u001b[39;49mworkers, backend\u001b[39m=\u001b[39;49mC\u001b[39m.\u001b[39;49mjoblib_backend, maxtasksperchild\u001b[39m=\u001b[39;49mC\u001b[39m.\u001b[39;49mmaxtasksperchild)(task_l),\n\u001b[0;32m    579\u001b[0m     )\n\u001b[0;32m    580\u001b[0m )\n\u001b[0;32m    582\u001b[0m new_data \u001b[39m=\u001b[39m \u001b[39mdict\u001b[39m()\n\u001b[0;32m    583\u001b[0m \u001b[39mfor\u001b[39;00m inst \u001b[39min\u001b[39;00m \u001b[39msorted\u001b[39m(data\u001b[39m.\u001b[39mkeys()):\n",
      "File \u001b[1;32md:\\anaconda3\\envs\\finance\\lib\\site-packages\\joblib\\parallel.py:1098\u001b[0m, in \u001b[0;36mParallel.__call__\u001b[1;34m(self, iterable)\u001b[0m\n\u001b[0;32m   1095\u001b[0m     \u001b[39mself\u001b[39m\u001b[39m.\u001b[39m_iterating \u001b[39m=\u001b[39m \u001b[39mFalse\u001b[39;00m\n\u001b[0;32m   1097\u001b[0m \u001b[39mwith\u001b[39;00m \u001b[39mself\u001b[39m\u001b[39m.\u001b[39m_backend\u001b[39m.\u001b[39mretrieval_context():\n\u001b[1;32m-> 1098\u001b[0m     \u001b[39mself\u001b[39;49m\u001b[39m.\u001b[39;49mretrieve()\n\u001b[0;32m   1099\u001b[0m \u001b[39m# Make sure that we get a last message telling us we are done\u001b[39;00m\n\u001b[0;32m   1100\u001b[0m elapsed_time \u001b[39m=\u001b[39m time\u001b[39m.\u001b[39mtime() \u001b[39m-\u001b[39m \u001b[39mself\u001b[39m\u001b[39m.\u001b[39m_start_time\n",
      "File \u001b[1;32md:\\anaconda3\\envs\\finance\\lib\\site-packages\\joblib\\parallel.py:975\u001b[0m, in \u001b[0;36mParallel.retrieve\u001b[1;34m(self)\u001b[0m\n\u001b[0;32m    973\u001b[0m \u001b[39mtry\u001b[39;00m:\n\u001b[0;32m    974\u001b[0m     \u001b[39mif\u001b[39;00m \u001b[39mgetattr\u001b[39m(\u001b[39mself\u001b[39m\u001b[39m.\u001b[39m_backend, \u001b[39m'\u001b[39m\u001b[39msupports_timeout\u001b[39m\u001b[39m'\u001b[39m, \u001b[39mFalse\u001b[39;00m):\n\u001b[1;32m--> 975\u001b[0m         \u001b[39mself\u001b[39m\u001b[39m.\u001b[39m_output\u001b[39m.\u001b[39mextend(job\u001b[39m.\u001b[39;49mget(timeout\u001b[39m=\u001b[39;49m\u001b[39mself\u001b[39;49m\u001b[39m.\u001b[39;49mtimeout))\n\u001b[0;32m    976\u001b[0m     \u001b[39melse\u001b[39;00m:\n\u001b[0;32m    977\u001b[0m         \u001b[39mself\u001b[39m\u001b[39m.\u001b[39m_output\u001b[39m.\u001b[39mextend(job\u001b[39m.\u001b[39mget())\n",
      "File \u001b[1;32md:\\anaconda3\\envs\\finance\\lib\\multiprocessing\\pool.py:771\u001b[0m, in \u001b[0;36mApplyResult.get\u001b[1;34m(self, timeout)\u001b[0m\n\u001b[0;32m    769\u001b[0m     \u001b[39mreturn\u001b[39;00m \u001b[39mself\u001b[39m\u001b[39m.\u001b[39m_value\n\u001b[0;32m    770\u001b[0m \u001b[39melse\u001b[39;00m:\n\u001b[1;32m--> 771\u001b[0m     \u001b[39mraise\u001b[39;00m \u001b[39mself\u001b[39m\u001b[39m.\u001b[39m_value\n",
      "\u001b[1;31mTypeError\u001b[0m: __init__() missing 1 required positional argument: 'N'"
     ]
    }
   ],
   "source": [
    "# dataLoader to get data\n",
    "\"\"\"\n",
    "example_loader_config = {\n",
    "    'feature': (['expr_1', 'expr_2', ... , 'expr_n'],\n",
    "               ['name_1', 'name_2', ... , 'name_n']), # name list是经过_parse_fields_info()函数处理过才有的\n",
    "    ...,\n",
    "    'label':  (['expr_1', 'expr_2', ... , 'expr_n'],\n",
    "               ['name_1', 'name_2', ... , 'name_n']),    \n",
    "}\n",
    "\"\"\"\n",
    "start_time = \"2020-01-01\"\n",
    "end_time = \"2023-06-30\"\n",
    "fit_start_time = start_time\n",
    "fit_end_time = \"2020-01-31\"\n",
    "\n",
    "\"\"\"\n",
    "factor15\n",
    "rank(correlation(rank(high), rank(volume), 3)：分别对最高价成交价和成交量进行计算排序分位值，然后计算二者近3天的相关系数并取排名分位值，本质上就是分析近3天最高价和成交量的相关性。\n",
    "-1 * sum(rank(correlation(rank(high), rank(volume), 3)), 3)：最后对近3日内的相关系数分位值进行累加并取负号。\n",
    "\"\"\"\n",
    "\n",
    "factor = ([\"-1*Sum(Rank(Corr(Rank($high),Rank($volumn),3)),3)\"],\n",
    "          [\"factor15\"])\n",
    "\n",
    "factor = ([\"Corr(Rank($high),Rank($volumn),3)\"],\n",
    "          [\"factor15\"])\n",
    "label = ([\"Ref($close, -2)/Ref($close, -1) - 1\"], [\"LABEL0\"])\n",
    "\n",
    "dataloader_config = {\n",
    "    \"class\": \"QlibDataLoader\",\n",
    "    \"module_path\": \"qlib.data.dataset.loader\",\n",
    "    \"kwargs\": {\n",
    "        \"config\": {\n",
    "            \"feature\": factor,\n",
    "            \"label\": label,\n",
    "        },\n",
    "        \"filter_pipe\": [sh,sz],\n",
    "        \"freq\": 'day',\n",
    "        \"inst_processor\": None,\n",
    "        \"swap_level\": True,\n",
    "    },\n",
    "}\n",
    "\n",
    "DEFAULT_LEARN_PROCESSORS = [\n",
    "    {\"class\": \"DropnaLabel\"},\n",
    "    {\"class\": \"DropnaProcessor\"},\n",
    "    {\"class\": \"CSZScoreNorm\", \"kwargs\": {\"fields_group\": \"label\"}},\n",
    "]\n",
    "DEFAULT_INFER_PROCESSORS = [\n",
    "    {\"class\": \"ProcessInf\", \"kwargs\": {}},\n",
    "    {\"class\": \"ZScoreNorm\", \"kwargs\": {}},\n",
    "    {\"class\": \"Fillna\", \"kwargs\": {}},\n",
    "]\n",
    "learn_proc = check_transform_proc(DEFAULT_LEARN_PROCESSORS,fit_start_time,fit_end_time)\n",
    "infer_proc = check_transform_proc(DEFAULT_INFER_PROCESSORS,fit_start_time,fit_end_time)\n",
    "\n",
    "# [{'class': 'DropnaLabel', 'kwargs': {}},\n",
    "#  {'class': 'DropnaProcessor', 'kwargs': {}},\n",
    "#  {'class': 'CSZScoreNorm', 'kwargs': {'fields_group': 'label'}}]\n",
    "# [{'class': 'ProcessInf', 'kwargs': {}},\n",
    "#  {'class': 'ZScoreNorm',\n",
    "#   'kwargs': {'fit_start_time': '2020-01-01', 'fit_end_time': '2020-01-31'}},\n",
    "#  {'class': 'Fillna', 'kwargs': {}}]\n",
    "\n",
    "datahandler_config = {\n",
    "    \"class\": \"DataHandlerLP\",\n",
    "    \"module_path\": \"qlib.data.dataset.handler\",\n",
    "    \"kwargs\":{\n",
    "        \"start_time\":start_time,\n",
    "        \"end_time\":end_time,\n",
    "        \"data_loader\":dataloader_config,\n",
    "        \"learn_processors\":DEFAULT_LEARN_PROCESSORS,\n",
    "        \"infer_processors\":DEFAULT_INFER_PROCESSORS,\n",
    "        \"instruments\":\"csi300\",\n",
    "\n",
    "    }\n",
    "}\n",
    "\n",
    "dataset_config = {\n",
    "    \"class\": \"DatasetH\",\n",
    "    \"module_path\": \"qlib.data.dataset\",\n",
    "    \"kwargs\":{\n",
    "        \"handler\": datahandler_config,\n",
    "        \"segments\": {\n",
    "            \"insample\": (start_time, \"2022-12-31\"),\n",
    "            \"outsample\": (\"2023-01-01\", end_time),\n",
    "            },\n",
    "    }\n",
    "\n",
    "}\n",
    "\n",
    "datahandler = init_instance_by_config(datahandler_config)\n",
    "# dataset = init_instance_by_config(dataset_config)\n",
    "\n",
    "# # features, example from SH0000001\n",
    "# D.features(instruments=all_shsz, start_time='2020-01-01', end_time='2023-07-14', fields=['$close', '$factor', '$high']).head(50)\n",
    "\n",
    "\n",
    "# mkt_csi300 = D.instruments(market='all')\n",
    "# D.features(mkt_csi300, fields, start_time=start, end_time=end, freq='day')\n",
    "\n",
    "# # dataLoader params\n",
    "# features = ['$close', '$factor', '$high']\n",
    "# features = [\"adjclose\", \"amount\", \"change\", \"close\", \"factor\", \"high\", \"low\", \"open\", \"volume\", \"vwap\", \"daily_return\"]\n"
   ]
  },
  {
   "cell_type": "code",
   "execution_count": 36,
   "metadata": {},
   "outputs": [
    {
     "data": {
      "text/plain": [
       "['factor15', 'LABEL0']"
      ]
     },
     "execution_count": 36,
     "metadata": {},
     "output_type": "execute_result"
    }
   ],
   "source": [
    "datahandler.get_cols()"
   ]
  },
  {
   "cell_type": "code",
   "execution_count": 2,
   "metadata": {},
   "outputs": [
    {
     "name": "stdout",
     "output_type": "stream",
     "text": [
      "[Timestamp('2018-01-02 00:00:00') Timestamp('2018-01-03 00:00:00')]\n"
     ]
    }
   ],
   "source": [
    "# 从calendar中读取 指定的频率和时间范围，查看数据的时间范围\n",
    "start,end = '2018-01-01','2023-02-28'\n",
    "cal_d = D.calendar(start_time=start, end_time=end, freq='day')\n",
    "print(cal_d[:2])\n",
    "\n",
    "# 初始化一个stook pool 从instruments中，指定 market 为文件名，读取个股code\n",
    "mkt_csi300 = D.instruments(market='csi300')   # {'market': 'all', 'filter_pipe': []}\n",
    "mkt_csi300_list = D.list_instruments(instruments=mkt_csi300, start_time=start, end_time=end, as_list=True)\n",
    "\n",
    "# 有filter api 用来过滤数据\n",
    "# expressionDFilter = ExpressionDFilter(rule_expression='$close>2000')\n",
    "# instruments = D.instruments(market='csi300', filter_pipe=[expressionDFilter])\n",
    "# D.list_instruments(instruments=instruments, start_time='2020-01-01', end_time='2020-09-25', as_list=True)\n"
   ]
  },
  {
   "cell_type": "code",
   "execution_count": 34,
   "metadata": {},
   "outputs": [
    {
     "data": {
      "text/plain": [
       "[{'class': 'ProcessInf', 'kwargs': {}},\n",
       " {'class': 'ZScoreNorm',\n",
       "  'kwargs': {'fit_start_time': '2020-01-01', 'fit_end_time': '2023-05-26'}},\n",
       " {'class': 'Fillna', 'kwargs': {}}]"
      ]
     },
     "execution_count": 34,
     "metadata": {},
     "output_type": "execute_result"
    }
   ],
   "source": [
    "# 在这里做一些测试\n",
    "import qlib\n",
    "from qlib.utils import get_callable_kwargs\n",
    "# from qlib.data.dataset import processor\n",
    "# from qlib.data.dataset.processor import Processor\n",
    "from qlib.contrib.data.handler import check_transform_proc\n",
    "\n",
    "start_time = \"2020-01-01\"\n",
    "end_time = \"2023-05-26\"\n",
    "train_start_time = start_time\n",
    "train_end_time = \"2021-12-31\"\n",
    "val_start_time = \"2022-01-01\"\n",
    "val_end_time = \"2022-12-31\"\n",
    "test_start_time = \"2023-01-01\"\n",
    "test_end_time = end_time\n",
    "\n",
    "DEFAULT_LEARN_PROCESSORS = [\n",
    "    {\"class\": \"DropnaLabel\"},\n",
    "    {\"class\": \"CSZScoreNorm\", \"kwargs\": {\"fields_group\": \"label\"}},\n",
    "]\n",
    "DEFAULT_INFER_PROCESSORS = [\n",
    "    {\"class\": \"ProcessInf\", \"kwargs\": {}},\n",
    "    {\"class\": \"ZScoreNorm\", \"kwargs\": {}},\n",
    "    {\"class\": \"Fillna\", \"kwargs\": {}},\n",
    "]\n",
    "\n",
    "a = {\"class\":\"ZScoreNorm\",\n",
    "     \"kwargs\":{\n",
    "         \"fit_start_time\": start_time,\n",
    "         \"fit_end_time\": end_time,\n",
    "     }\n",
    "}\n",
    "ll = [a]\n",
    "check_transform_proc(DEFAULT_INFER_PROCESSORS,start_time,end_time)\n",
    "# isinstance(a, Processor)\n",
    "# a,b = get_callable_kwargs({\"class\": \"ZScoreNorm\", \"kwargs\": {\"aaa\":\"bbb\"}},processor)\n"
   ]
  },
  {
   "cell_type": "code",
   "execution_count": 27,
   "metadata": {},
   "outputs": [
    {
     "data": {
      "text/plain": [
       "qlib.data.dataset.processor.ZScoreNorm"
      ]
     },
     "execution_count": 27,
     "metadata": {},
     "output_type": "execute_result"
    }
   ],
   "source": [
    "a"
   ]
  }
 ],
 "metadata": {
  "kernelspec": {
   "display_name": "quant",
   "language": "python",
   "name": "python3"
  },
  "language_info": {
   "codemirror_mode": {
    "name": "ipython",
    "version": 3
   },
   "file_extension": ".py",
   "mimetype": "text/x-python",
   "name": "python",
   "nbconvert_exporter": "python",
   "pygments_lexer": "ipython3",
   "version": "3.8.5"
  },
  "orig_nbformat": 4
 },
 "nbformat": 4,
 "nbformat_minor": 2
}
