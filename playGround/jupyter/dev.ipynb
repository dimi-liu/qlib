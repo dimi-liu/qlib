{
 "cells": [
  {
   "cell_type": "code",
   "execution_count": 30,
   "id": "628b3f22-0659-4b66-b316-78ba6f5863f7",
   "metadata": {},
   "outputs": [],
   "source": [
    "import qlib\n",
    "from pathlib import Path\n",
    "# region in [REG_CN, REG_US]\n",
    "from qlib.constant import REG_CN  # 'cn'\n",
    "from qlib.data import D\n"
   ]
  },
  {
   "cell_type": "code",
   "execution_count": 21,
   "id": "d4e1e5d3-4605-4f23-b6c6-00e494e0977f",
   "metadata": {},
   "outputs": [],
   "source": [
    "# 在这里定义路径\n",
    "# 当前绝对路径\n",
    "path_cur = Path.cwd() # D:/github/qlib/playGround/jupyter\n",
    "# 项目根目录\n",
    "path_project_root = path_cur.parent.parent # 绝对路径 ./qlib\n",
    "\n",
    "# 数据路径\n",
    "path_data = path_project_root / Path('./.qlib')   #./qlib/.qlib\n",
    "\n"
   ]
  },
  {
   "cell_type": "code",
   "execution_count": 48,
   "id": "233cd1d4-b170-41a3-8487-ca6ef5121ca2",
   "metadata": {},
   "outputs": [
    {
     "name": "stderr",
     "output_type": "stream",
     "text": [
      "[28024:MainThread](2023-01-09 17:32:25,592) INFO - qlib.Initialization - [config.py:415] - default_conf: client.\n",
      "[28024:MainThread](2023-01-09 17:32:25,595) INFO - qlib.Initialization - [__init__.py:74] - qlib successfully initialized based on client settings.\n",
      "[28024:MainThread](2023-01-09 17:32:25,596) INFO - qlib.Initialization - [__init__.py:76] - data_path={'__DEFAULT_FREQ': WindowsPath('D:/github/qlib/.qlib/qlib_data/cn_data')}\n"
     ]
    }
   ],
   "source": [
    "# qlib自带下载数据路径\n",
    "provider_uri = path_data / Path('./qlib_data/cn_data') # target_dir\n",
    "\n",
    "\n",
    "# In order to get the data, users need to initialize Qlib with qlib.init first\n",
    "qlib.init(default_conf=\"client\", provider_uri=provider_uri, region=REG_CN)\n"
   ]
  },
  {
   "cell_type": "code",
   "execution_count": null,
   "id": "68b2338f-f6d6-4d00-8820-757d58dbeeb2",
   "metadata": {},
   "outputs": [],
   "source": []
  },
  {
   "cell_type": "code",
   "execution_count": 55,
   "id": "e91a74d9-f230-4d83-9b8d-74b1eb97defd",
   "metadata": {},
   "outputs": [
    {
     "data": {
      "text/plain": [
       "array([Timestamp('2020-01-02 00:00:00'), Timestamp('2020-01-03 00:00:00')],\n",
       "      dtype=object)"
      ]
     },
     "execution_count": 55,
     "metadata": {},
     "output_type": "execute_result"
    }
   ],
   "source": [
    "# Load trading calendar with given time range and frequency:\n",
    "cal_d = D.calendar(start_time='2020-01-01', end_time='2020-09-25', freq='day')\n",
    "cal_d[:2]"
   ]
  },
  {
   "cell_type": "code",
   "execution_count": 56,
   "id": "adcb8dea-e034-42a7-a12d-d0f546d9ac52",
   "metadata": {},
   "outputs": [
    {
     "data": {
      "text/plain": [
       "{'market': 'all', 'filter_pipe': []}"
      ]
     },
     "execution_count": 56,
     "metadata": {},
     "output_type": "execute_result"
    }
   ],
   "source": [
    "# Parse a given market name into a stock pool config:\n",
    "mkt_d = D.instruments(market='all')\n",
    "mkt_d"
   ]
  },
  {
   "cell_type": "code",
   "execution_count": 57,
   "id": "3733d97a-9b05-41f3-9f15-3d0fb1bcb48c",
   "metadata": {},
   "outputs": [
    {
     "data": {
      "text/plain": [
       "['SH600000', 'SH600004', 'SH600009', 'SH600010', 'SH600011', 'SH600015']"
      ]
     },
     "execution_count": 57,
     "metadata": {},
     "output_type": "execute_result"
    }
   ],
   "source": [
    "# Load instruments of certain stock pool in the given time range:\n",
    "instruments  = D.instruments(market='csi300')\n",
    "mkt_d_csi300 = D.list_instruments(instruments=instruments, start_time='2020-01-01', end_time='2020-09-25', as_list=True)\n",
    "mkt_d_csi300[:6]"
   ]
  },
  {
   "cell_type": "code",
   "execution_count": 66,
   "id": "0c0ab9df-d3a6-4fab-8fb5-d2959b295c19",
   "metadata": {},
   "outputs": [
    {
     "data": {
      "text/plain": [
       "321"
      ]
     },
     "execution_count": 66,
     "metadata": {},
     "output_type": "execute_result"
    }
   ],
   "source": [
    "len(mkt_d_csi300)"
   ]
  },
  {
   "cell_type": "code",
   "execution_count": null,
   "id": "e2df02e7-6209-44e2-a2dc-262b4f36e9d8",
   "metadata": {},
   "outputs": [],
   "source": [
    "https://qlib.readthedocs.io/en/latest/start/getdata.html\n"
   ]
  }
 ],
 "metadata": {
  "kernelspec": {
   "display_name": "qlib",
   "language": "python",
   "name": "qlib"
  },
  "language_info": {
   "codemirror_mode": {
    "name": "ipython",
    "version": 3
   },
   "file_extension": ".py",
   "mimetype": "text/x-python",
   "name": "python",
   "nbconvert_exporter": "python",
   "pygments_lexer": "ipython3",
   "version": "3.8.15"
  }
 },
 "nbformat": 4,
 "nbformat_minor": 5
}
