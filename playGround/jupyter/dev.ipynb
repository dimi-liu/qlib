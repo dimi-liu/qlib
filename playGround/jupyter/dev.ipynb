{
 "cells": [
  {
   "cell_type": "code",
   "execution_count": 1,
   "id": "628b3f22-0659-4b66-b316-78ba6f5863f7",
   "metadata": {},
   "outputs": [
    {
     "ename": "ModuleNotFoundError",
     "evalue": "No module named 'qlib'",
     "output_type": "error",
     "traceback": [
      "\u001b[1;31m---------------------------------------------------------------------------\u001b[0m",
      "\u001b[1;31mModuleNotFoundError\u001b[0m                       Traceback (most recent call last)",
      "\u001b[1;32m<ipython-input-1-16b22cb19d8b>\u001b[0m in \u001b[0;36m<module>\u001b[1;34m\u001b[0m\n\u001b[1;32m----> 1\u001b[1;33m \u001b[1;32mimport\u001b[0m \u001b[0mqlib\u001b[0m\u001b[1;33m\u001b[0m\u001b[1;33m\u001b[0m\u001b[0m\n\u001b[0m\u001b[0;32m      2\u001b[0m \u001b[1;32mfrom\u001b[0m \u001b[0mpathlib\u001b[0m \u001b[1;32mimport\u001b[0m \u001b[0mPath\u001b[0m\u001b[1;33m\u001b[0m\u001b[1;33m\u001b[0m\u001b[0m\n\u001b[0;32m      3\u001b[0m \u001b[1;32mfrom\u001b[0m \u001b[0mqlib\u001b[0m\u001b[1;33m.\u001b[0m\u001b[0mconstant\u001b[0m \u001b[1;32mimport\u001b[0m \u001b[0mREG_CN\u001b[0m  \u001b[1;31m# 'cn'\u001b[0m\u001b[1;33m\u001b[0m\u001b[1;33m\u001b[0m\u001b[0m\n\u001b[0;32m      4\u001b[0m \u001b[1;32mfrom\u001b[0m \u001b[0mqlib\u001b[0m\u001b[1;33m.\u001b[0m\u001b[0mdata\u001b[0m \u001b[1;32mimport\u001b[0m \u001b[0mD\u001b[0m\u001b[1;33m\u001b[0m\u001b[1;33m\u001b[0m\u001b[0m\n\u001b[0;32m      5\u001b[0m \u001b[1;32mfrom\u001b[0m \u001b[0mqlib\u001b[0m\u001b[1;33m.\u001b[0m\u001b[0mdata\u001b[0m\u001b[1;33m.\u001b[0m\u001b[0mfilter\u001b[0m \u001b[1;32mimport\u001b[0m \u001b[0mExpressionDFilter\u001b[0m\u001b[1;33m,\u001b[0m\u001b[0mNameDFilter\u001b[0m\u001b[1;33m\u001b[0m\u001b[1;33m\u001b[0m\u001b[0m\n",
      "\u001b[1;31mModuleNotFoundError\u001b[0m: No module named 'qlib'"
     ]
    }
   ],
   "source": [
    "import qlib\n",
    "from pathlib import Path\n",
    "from qlib.constant import REG_CN  # 'cn'\n",
    "from qlib.data import D\n",
    "from qlib.data.filter import ExpressionDFilter,NameDFilter\n",
    "\n",
    "# 在这里定义路径\n",
    "# 当前绝对路径\n",
    "path_cur = Path.cwd() # D:/github/qlib/playGround/jupyter\n",
    "# 项目根目录\n",
    "path_project_root = path_cur.parent.parent # 绝对路径 ./qlib\n",
    "\n",
    "# 数据路径\n",
    "path_data = path_project_root / Path('./.qlib/qlib_bin')\n"
   ]
  },
  {
   "cell_type": "code",
   "execution_count": null,
   "id": "233cd1d4-b170-41a3-8487-ca6ef5121ca2",
   "metadata": {},
   "outputs": [
    {
     "name": "stderr",
     "output_type": "stream",
     "text": [
      "[85140:MainThread](2023-03-02 17:04:31,156) INFO - qlib.Initialization - [config.py:415] - default_conf: client.\n",
      "[85140:MainThread](2023-03-02 17:04:31,161) INFO - qlib.Initialization - [__init__.py:74] - qlib successfully initialized based on client settings.\n",
      "[85140:MainThread](2023-03-02 17:04:31,162) INFO - qlib.Initialization - [__init__.py:76] - data_path={'__DEFAULT_FREQ': WindowsPath('D:/github/qlib/.qlib/qlib_bin')}\n"
     ]
    }
   ],
   "source": [
    "# In order to get the data, users need to initialize Qlib with qlib.init first\n",
    "qlib.init(default_conf=\"client\", provider_uri=path_data, region=REG_CN)\n"
   ]
  },
  {
   "cell_type": "code",
   "execution_count": null,
   "id": "e91a74d9-f230-4d83-9b8d-74b1eb97defd",
   "metadata": {},
   "outputs": [
    {
     "name": "stdout",
     "output_type": "stream",
     "text": [
      "[Timestamp('2023-01-03 00:00:00') Timestamp('2023-01-04 00:00:00')]\n"
     ]
    }
   ],
   "source": [
    "# 从calendar中读取 指定的频率和时间范围，查看数据的时间范围\n",
    "start,end = '2022-01-01','2023-02-28'\n",
    "cal_d = D.calendar(start_time=start, end_time=end, freq='day')\n",
    "print(cal_d[:2])\n",
    "\n",
    "# 初始化一个stook pool 从instruments中，指定 market 为文件名，读取个股code\n",
    "mkt_csi300 = D.instruments(market='csi300')   # {'market': 'all', 'filter_pipe': []}\n",
    "mkt_csi300_list = D.list_instruments(instruments=mkt_csi300, start_time=start, end_time=end, as_list=True)\n",
    "\n",
    "# 有filter api 用来过滤数据\n",
    "# expressionDFilter = ExpressionDFilter(rule_expression='$close>2000')\n",
    "# instruments = D.instruments(market='csi300', filter_pipe=[expressionDFilter])\n",
    "# D.list_instruments(instruments=instruments, start_time='2020-01-01', end_time='2020-09-25', as_list=True)\n"
   ]
  },
  {
   "cell_type": "code",
   "execution_count": null,
   "id": "bd975cc2-739e-4457-98db-8d2c3be80537",
   "metadata": {},
   "outputs": [],
   "source": [
    "# # 加载数据\n",
    "# fields = ['$open','$close','$high','$low', '$volume', 'Ref($close, 1)', 'Mean($close, 3)', '$high-$low']\n",
    "# data = D.features(mkt_csi300, fields, start_time=start, end_time=end, freq='day')\n",
    "# data"
   ]
  },
  {
   "attachments": {},
   "cell_type": "markdown",
   "id": "040f63a2",
   "metadata": {},
   "source": [
    "```python\n",
    "# 对象初始化\n",
    "class_x_config = {\n",
    "        \"class\": \"Class_X\", # 类命\n",
    "        \"module_path\": \"qlib.xx.xx.xx\", # 该类所在的路径\n",
    "        # 该对象的超参数\n",
    "        \"kwargs\": {\n",
    "            'param_1': 'value_1',\n",
    "            'param_2': 'value_2',\n",
    "            ...\n",
    "            'param_n': 'value_n',\n",
    "        },\n",
    "}\n",
    "```"
   ]
  },
  {
   "cell_type": "code",
   "execution_count": null,
   "id": "e16aab61-0093-48ec-82fe-254d6ef11fb3",
   "metadata": {},
   "outputs": [],
   "source": [
    "# 训练参数设置\n",
    "# Qlib要求我们使用Dict类型变量，以一种约定俗成的定义方式来进行参数初始化\n",
    "\n",
    "# 数据处理类handler设置\n",
    "data_handler_config = {\n",
    "    \"start_time\": start,\n",
    "    \"end_time\": end,\n",
    "    \"fit_start_time\": start,\n",
    "    \"fit_end_time\": \"2022-12-31\",\n",
    "    \"instruments\": \"csi300\" # 使用这段时间内中证三百指数成分股进行交易\n",
    "}\n",
    "\n",
    "# 训练任务参数设置\n",
    "task = {\n",
    "    # 使用的model的参数设置\n",
    "    \"model\": {\n",
    "        \"class\": \"XGBModel\", # 原代码中使用LGBM，这里改成XGB\n",
    "        \"module_path\": \"qlib.contrib.model.xgboost\",\n",
    "        # 模型的超参数\n",
    "        \"kwargs\": {\n",
    "            \"loss\": \"mse\",\n",
    "            \"colsample_bytree\": 0.8879,\n",
    "            \"learning_rate\": 0.0421,\n",
    "            \"max_depth\": 8,\n",
    "            'tree_method': 'gpu_hist',\n",
    "            'gpu_id': 0\n",
    "        },\n",
    "    },\n",
    "\n",
    "    # 为model提供数据的dataset类的参数设置\n",
    "    \"dataset\": {\n",
    "        \"class\": \"DatasetH\", \n",
    "        \"module_path\": \"qlib.data.dataset\",\n",
    "        \"kwargs\": {\n",
    "            \"handler\": {\n",
    "                \"class\": \"Alpha158\",\n",
    "                \"module_path\": \"qlib.contrib.data.handler\",\n",
    "                \"kwargs\": data_handler_config,   # 使用上边定义的data_handler_config\n",
    "            },\n",
    "            \"segments\": {\n",
    "                \"train\": (\"2008-01-01\", \"2014-12-31\"), # 训练集时间范围\n",
    "                \"valid\": (\"2015-01-01\", \"2016-12-31\"), # 验证集时间范围\n",
    "                \"test\": (\"2017-01-01\", \"2020-08-01\"),  # 测试集时间范围\n",
    "            },\n",
    "        },\n",
    "    },\n",
    "}\n"
   ]
  },
  {
   "cell_type": "code",
   "execution_count": null,
   "id": "f8e4e24f",
   "metadata": {},
   "outputs": [],
   "source": [
    "# 初始化模型和数据集\n",
    "from qlib.utils import init_instance_by_config\n",
    "\n",
    "model = init_instance_by_config(task[\"model\"])\n",
    "dataset = init_instance_by_config(task[\"dataset\"])\n"
   ]
  },
  {
   "cell_type": "code",
   "execution_count": null,
   "id": "2c52d6c3",
   "metadata": {},
   "outputs": [],
   "source": [
    "# 模型训练\n",
    "# start exp to train model\n",
    "from qlib.workflow import R\n",
    "from qlib.utils import flatten_dict\n",
    "\n",
    "\n",
    "with R.start(experiment_name=\"train_model\"):\n",
    "    R.log_params(**flatten_dict(task))\n",
    "    model.fit(dataset)  # 模型训练\n",
    "    R.save_objects(trained_model=model)\n",
    "    rid = R.get_recorder().id # 获得这个R中的recorder的id，便于之后取用这个recorder"
   ]
  }
 ],
 "metadata": {
  "kernelspec": {
   "display_name": "qlib",
   "language": "python",
   "name": "python3"
  },
  "language_info": {
   "codemirror_mode": {
    "name": "ipython",
    "version": 3
   },
   "file_extension": ".py",
   "mimetype": "text/x-python",
   "name": "python",
   "nbconvert_exporter": "python",
   "pygments_lexer": "ipython3",
   "version": "3.8.15 (default, Nov 24 2022, 14:38:14) [MSC v.1916 64 bit (AMD64)]"
  },
  "vscode": {
   "interpreter": {
    "hash": "0e2a59c53d0ba92702e2e4c6daf9bcbc1dc36b5640e42abcc3cd7ac0b5dcd9e2"
   }
  }
 },
 "nbformat": 4,
 "nbformat_minor": 5
}
