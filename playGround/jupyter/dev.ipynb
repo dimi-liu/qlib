{
 "cells": [
  {
   "cell_type": "code",
   "execution_count": 1,
   "id": "628b3f22-0659-4b66-b316-78ba6f5863f7",
   "metadata": {},
   "outputs": [],
   "source": [
    "import qlib\n",
    "from pathlib import Path\n",
    "from qlib.constant import REG_CN  # 'cn'\n",
    "from qlib.data import D\n",
    "from qlib.data.filter import ExpressionDFilter,NameDFilter\n",
    "\n",
    "# 在这里定义路径\n",
    "# 当前绝对路径\n",
    "path_cur = Path.cwd() # D:/github/qlib/playGround/jupyter\n",
    "# 项目根目录\n",
    "path_project_root = path_cur.parent.parent # 绝对路径 ./qlib\n",
    "\n",
    "# 数据路径\n",
    "path_data = path_project_root / Path('./.qlib/qlib_bin')\n"
   ]
  },
  {
   "cell_type": "code",
   "execution_count": 2,
   "id": "233cd1d4-b170-41a3-8487-ca6ef5121ca2",
   "metadata": {},
   "outputs": [
    {
     "name": "stderr",
     "output_type": "stream",
     "text": [
      "[136708:MainThread](2023-03-08 10:53:35,112) INFO - qlib.Initialization - [config.py:415] - default_conf: client.\n",
      "[136708:MainThread](2023-03-08 10:53:36,682) INFO - qlib.Initialization - [__init__.py:74] - qlib successfully initialized based on client settings.\n",
      "[136708:MainThread](2023-03-08 10:53:36,683) INFO - qlib.Initialization - [__init__.py:76] - data_path={'__DEFAULT_FREQ': WindowsPath('D:/github/qlib/.qlib/qlib_bin')}\n"
     ]
    }
   ],
   "source": [
    "# In order to get the data, users need to initialize Qlib with qlib.init first\n",
    "qlib.init(default_conf=\"client\", provider_uri=path_data, region=REG_CN)\n"
   ]
  },
  {
   "cell_type": "code",
   "execution_count": 3,
   "id": "e91a74d9-f230-4d83-9b8d-74b1eb97defd",
   "metadata": {},
   "outputs": [
    {
     "name": "stdout",
     "output_type": "stream",
     "text": [
      "[Timestamp('2018-01-02 00:00:00') Timestamp('2018-01-03 00:00:00')]\n"
     ]
    }
   ],
   "source": [
    "# 从calendar中读取 指定的频率和时间范围，查看数据的时间范围\n",
    "start,end = '2018-01-01','2023-02-28'\n",
    "cal_d = D.calendar(start_time=start, end_time=end, freq='day')\n",
    "print(cal_d[:2])\n",
    "\n",
    "# 初始化一个stook pool 从instruments中，指定 market 为文件名，读取个股code\n",
    "mkt_csi300 = D.instruments(market='csi300')   # {'market': 'all', 'filter_pipe': []}\n",
    "mkt_csi300_list = D.list_instruments(instruments=mkt_csi300, start_time=start, end_time=end, as_list=True)\n",
    "\n",
    "# 有filter api 用来过滤数据\n",
    "# expressionDFilter = ExpressionDFilter(rule_expression='$close>2000')\n",
    "# instruments = D.instruments(market='csi300', filter_pipe=[expressionDFilter])\n",
    "# D.list_instruments(instruments=instruments, start_time='2020-01-01', end_time='2020-09-25', as_list=True)\n"
   ]
  },
  {
   "cell_type": "code",
   "execution_count": 4,
   "id": "bd975cc2-739e-4457-98db-8d2c3be80537",
   "metadata": {},
   "outputs": [],
   "source": [
    "# # 加载数据\n",
    "# fields = ['$open','$close','$high','$low', '$volume', 'Ref($close, 1)', 'Mean($close, 3)', '$high-$low']\n",
    "# data = D.features(mkt_csi300, fields, start_time=start, end_time=end, freq='day')\n",
    "# data"
   ]
  },
  {
   "attachments": {},
   "cell_type": "markdown",
   "id": "040f63a2",
   "metadata": {},
   "source": [
    "```python\n",
    "# 对象初始化\n",
    "class_x_config = {\n",
    "        \"class\": \"Class_X\", # 类命\n",
    "        \"module_path\": \"qlib.xx.xx.xx\", # 该类所在的路径\n",
    "        # 该对象的超参数\n",
    "        \"kwargs\": {\n",
    "            'param_1': 'value_1',\n",
    "            'param_2': 'value_2',\n",
    "            ...\n",
    "            'param_n': 'value_n',\n",
    "        },\n",
    "}\n",
    "```"
   ]
  },
  {
   "cell_type": "code",
   "execution_count": 5,
   "id": "e16aab61-0093-48ec-82fe-254d6ef11fb3",
   "metadata": {},
   "outputs": [],
   "source": [
    "# 训练参数设置\n",
    "# Qlib要求我们使用Dict类型变量，以一种约定俗成的定义方式来进行参数初始化\n",
    "\n",
    "# 数据处理类handler设置\n",
    "data_handler_config = {\n",
    "    \"start_time\": '2018-01-01',\n",
    "    \"end_time\": '2023-02-28',\n",
    "    \"fit_start_time\": '2018-01-01',\n",
    "    \"fit_end_time\": \"2020-12-31\",\n",
    "    \"instruments\": \"csi300\" # 使用这段时间内中证三百指数成分股进行交易\n",
    "}\n",
    "\n",
    "# 训练任务参数设置\n",
    "task = {\n",
    "    # 使用的model的参数设置\n",
    "    \"model\": {\n",
    "        \"class\": \"XGBModel\", # 原代码中使用LGBM，这里改成XGB\n",
    "        \"module_path\": \"qlib.contrib.model.xgboost\",\n",
    "        # 模型的超参数\n",
    "        \"kwargs\": {\n",
    "            \"loss\": \"mse\",\n",
    "            \"colsample_bytree\": 0.8879,\n",
    "            \"learning_rate\": 0.0421,\n",
    "            \"max_depth\": 8,\n",
    "            'tree_method': 'gpu_hist',\n",
    "            'gpu_id': 0\n",
    "        },\n",
    "    },\n",
    "\n",
    "# start,end = '2018-01-01','2023-02-28'\n",
    "\n",
    "    # 为model提供数据的dataset类的参数设置\n",
    "    \"dataset\": {\n",
    "        \"class\": \"DatasetH\", \n",
    "        \"module_path\": \"qlib.data.dataset\",\n",
    "        \"kwargs\": {\n",
    "            \"handler\": {\n",
    "                \"class\": \"Alpha158\",\n",
    "                \"module_path\": \"qlib.contrib.data.handler\",\n",
    "                \"kwargs\": data_handler_config,   # 使用上边定义的data_handler_config\n",
    "            },\n",
    "            \"segments\": {\n",
    "                \"train\": (\"2018-01-01\", \"2020-12-31\"), # 训练集时间范围\n",
    "                \"valid\": (\"2021-01-01\", \"2021-12-31\"), # 验证集时间范围\n",
    "                \"test\": (\"2022-01-01\", \"2023-02-28\"),  # 测试集时间范围\n",
    "            },\n",
    "        },\n",
    "    },\n",
    "}\n"
   ]
  },
  {
   "cell_type": "code",
   "execution_count": 7,
   "id": "f8e4e24f",
   "metadata": {},
   "outputs": [
    {
     "name": "stderr",
     "output_type": "stream",
     "text": [
      "[136708:MainThread](2023-03-08 11:21:32,604) INFO - qlib.timer - [log.py:128] - Time cost: 81.118s | Loading data Done\n",
      "[136708:MainThread](2023-03-08 11:21:32,898) INFO - qlib.timer - [log.py:128] - Time cost: 0.111s | DropnaLabel Done\n",
      "d:\\anaconda3\\envs\\qlib\\lib\\site-packages\\qlib\\data\\dataset\\processor.py:316: SettingWithCopyWarning: \n",
      "A value is trying to be set on a copy of a slice from a DataFrame.\n",
      "Try using .loc[row_indexer,col_indexer] = value instead\n",
      "\n",
      "See the caveats in the documentation: https://pandas.pydata.org/pandas-docs/stable/user_guide/indexing.html#returning-a-view-versus-a-copy\n",
      "  df[cols] = df[cols].groupby(\"datetime\", group_keys=False).apply(self.zscore_func)\n",
      "[136708:MainThread](2023-03-08 11:21:34,357) INFO - qlib.timer - [log.py:128] - Time cost: 1.457s | CSZScoreNorm Done\n",
      "[136708:MainThread](2023-03-08 11:21:34,378) INFO - qlib.timer - [log.py:128] - Time cost: 1.773s | fit & process data Done\n",
      "[136708:MainThread](2023-03-08 11:21:34,380) INFO - qlib.timer - [log.py:128] - Time cost: 82.895s | Init data Done\n"
     ]
    }
   ],
   "source": [
    "# 初始化模型和数据集\n",
    "from qlib.utils import init_instance_by_config\n",
    "\n",
    "model = init_instance_by_config(task[\"model\"])\n",
    "dataset = init_instance_by_config(task[\"dataset\"])   # 在初始化dataset时会消耗大量时间\n"
   ]
  },
  {
   "cell_type": "code",
   "execution_count": 8,
   "id": "2c52d6c3",
   "metadata": {},
   "outputs": [
    {
     "name": "stderr",
     "output_type": "stream",
     "text": [
      "[136708:MainThread](2023-03-08 11:24:34,314) WARNING - qlib.workflow - [expm.py:230] - No valid experiment found. Create a new experiment with name train_demo.\n",
      "[136708:MainThread](2023-03-08 11:24:34,323) INFO - qlib.workflow - [exp.py:258] - Experiment 1 starts running ...\n",
      "[136708:MainThread](2023-03-08 11:24:34,793) INFO - qlib.workflow - [recorder.py:341] - Recorder d5ab2c0f0fd240e59fcafe0606a43639 starts running under Experiment 1 ...\n"
     ]
    },
    {
     "name": "stdout",
     "output_type": "stream",
     "text": [
      "[11:24:37] WARNING: C:/buildkite-agent/builds/buildkite-windows-cpu-autoscaling-group-i-0fc7796c793e6356f-1/xgboost/xgboost-ci-windows/src/learner.cc:767: \n",
      "Parameters: { \"loss\" } are not used.\n",
      "\n",
      "[0]\ttrain-rmse:1.10660\tvalid-rmse:1.10729\n",
      "[20]\ttrain-rmse:1.00820\tvalid-rmse:1.01874\n",
      "[40]\ttrain-rmse:0.98434\tvalid-rmse:1.00209\n",
      "[60]\ttrain-rmse:0.97396\tvalid-rmse:0.99931\n",
      "[80]\ttrain-rmse:0.96659\tvalid-rmse:0.99914\n",
      "[100]\ttrain-rmse:0.95956\tvalid-rmse:0.99958\n",
      "[115]\ttrain-rmse:0.95390\tvalid-rmse:0.99994\n"
     ]
    },
    {
     "name": "stderr",
     "output_type": "stream",
     "text": [
      "[136708:MainThread](2023-03-08 11:24:50,808) INFO - qlib.timer - [log.py:128] - Time cost: 0.000s | waiting `async_log` Done\n"
     ]
    }
   ],
   "source": [
    "# 模型训练\n",
    "# start exp to train model\n",
    "from qlib.workflow import R\n",
    "from qlib.utils import flatten_dict\n",
    " \n",
    "\n",
    "with R.start(experiment_name=\"train_demo\", experiment_id='1'):\n",
    "    # R.start()会生成一个exp实例，实例化于Experiment类，而该实例初始化时会同时创建一个recoder实例，\n",
    "    # 可以把他想象成一个容器，用于记录和存储实验中的各种变量以及模型。而recorder实例化于Recoder类\n",
    "    # 需要experiment_id和id才能唯一确定一个recorder\n",
    "    R.log_params(**flatten_dict(task))  #\n",
    "    model.fit(dataset)  # 模型训练\n",
    "    R.save_objects(trained_model=model)\n",
    "    rid = R.get_recorder().id # 获得这个R中的recorder的id，便于之后取用这个recorder"
   ]
  },
  {
   "cell_type": "code",
   "execution_count": 15,
   "id": "bea6058b",
   "metadata": {},
   "outputs": [
    {
     "name": "stderr",
     "output_type": "stream",
     "text": [
      "[136708:MainThread](2023-03-08 11:45:22,503) INFO - qlib.workflow - [exp.py:258] - Experiment 0 starts running ...\n",
      "[136708:MainThread](2023-03-08 11:45:22,567) INFO - qlib.workflow - [recorder.py:341] - Recorder 76faec62fcc6407cb1b3c34de32f6d94 starts running under Experiment 0 ...\n",
      "[136708:MainThread](2023-03-08 11:45:23,048) INFO - qlib.timer - [log.py:128] - Time cost: 0.004s | waiting `async_log` Done\n"
     ]
    },
    {
     "name": "stdout",
     "output_type": "stream",
     "text": [
      "0\n"
     ]
    }
   ],
   "source": [
    "with R.start(experiment_name=\"train_modal_111\", experiment_id='0'):\n",
    "    print(R.get_exp().id)   "
   ]
  }
 ],
 "metadata": {
  "kernelspec": {
   "display_name": "qlib",
   "language": "python",
   "name": "python3"
  },
  "language_info": {
   "codemirror_mode": {
    "name": "ipython",
    "version": 3
   },
   "file_extension": ".py",
   "mimetype": "text/x-python",
   "name": "python",
   "nbconvert_exporter": "python",
   "pygments_lexer": "ipython3",
   "version": "3.8.15"
  },
  "vscode": {
   "interpreter": {
    "hash": "0e2a59c53d0ba92702e2e4c6daf9bcbc1dc36b5640e42abcc3cd7ac0b5dcd9e2"
   }
  }
 },
 "nbformat": 4,
 "nbformat_minor": 5
}
