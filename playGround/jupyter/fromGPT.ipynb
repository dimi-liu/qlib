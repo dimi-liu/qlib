{
 "cells": [
  {
   "cell_type": "code",
   "execution_count": 7,
   "metadata": {},
   "outputs": [
    {
     "name": "stderr",
     "output_type": "stream",
     "text": [
      "[10472:MainThread](2023-04-05 17:09:11,417) INFO - qlib.Initialization - [config.py:415] - default_conf: client.\n",
      "[10472:MainThread](2023-04-05 17:09:11,419) INFO - qlib.Initialization - [__init__.py:74] - qlib successfully initialized based on client settings.\n",
      "[10472:MainThread](2023-04-05 17:09:11,421) INFO - qlib.Initialization - [__init__.py:76] - data_path={'__DEFAULT_FREQ': WindowsPath('E:/github/qlib/.qlib/qlib_bin')}\n"
     ]
    }
   ],
   "source": [
    "import numpy as np\n",
    "import pandas as pd\n",
    "import qlib\n",
    "from pathlib import Path\n",
    "from qlib import data, model\n",
    "from qlib.constant import REG_CN  # 'cn'\n",
    "from qlib.data import D\n",
    "from qlib.data.filter import ExpressionDFilter,NameDFilter\n",
    "from qlib.utils import init_instance_by_config\n",
    "from qlib.config import C\n",
    "\n",
    "# 在这里定义路径\n",
    "# 当前绝对路径\n",
    "path_cur = Path.cwd() # D:/github/qlib/playGround/jupyter\n",
    "# 项目根目录\n",
    "path_project_root = path_cur.parent.parent # 绝对路径 ./qlib\n",
    "\n",
    "# 数据路径\n",
    "path_data = path_project_root / Path('./.qlib/qlib_bin')\n",
    "\n",
    "# In order to get the data, users need to initialize Qlib with qlib.init first\n",
    "qlib.init(default_conf=\"client\", provider_uri=path_data, region=REG_CN)\n"
   ]
  },
  {
   "cell_type": "code",
   "execution_count": 2,
   "metadata": {},
   "outputs": [
    {
     "name": "stdout",
     "output_type": "stream",
     "text": [
      "[Timestamp('2018-01-02 00:00:00') Timestamp('2018-01-03 00:00:00')]\n"
     ]
    }
   ],
   "source": [
    "# 从calendar中读取 指定的频率和时间范围，查看数据的时间范围\n",
    "start,end = '2018-01-01','2023-02-28'\n",
    "cal_d = D.calendar(start_time=start, end_time=end, freq='day')\n",
    "print(cal_d[:2])\n",
    "\n",
    "# 初始化一个stook pool 从instruments中，指定 market 为文件名，读取个股code\n",
    "mkt_csi300 = D.instruments(market='csi300')   # {'market': 'all', 'filter_pipe': []}\n",
    "mkt_csi300_list = D.list_instruments(instruments=mkt_csi300, start_time=start, end_time=end, as_list=True)\n",
    "\n",
    "# 有filter api 用来过滤数据\n",
    "# expressionDFilter = ExpressionDFilter(rule_expression='$close>2000')\n",
    "# instruments = D.instruments(market='csi300', filter_pipe=[expressionDFilter])\n",
    "# D.list_instruments(instruments=instruments, start_time='2020-01-01', end_time='2020-09-25', as_list=True)\n"
   ]
  },
  {
   "cell_type": "code",
   "execution_count": null,
   "metadata": {},
   "outputs": [],
   "source": []
  }
 ],
 "metadata": {
  "kernelspec": {
   "display_name": "finance",
   "language": "python",
   "name": "python3"
  },
  "language_info": {
   "codemirror_mode": {
    "name": "ipython",
    "version": 3
   },
   "file_extension": ".py",
   "mimetype": "text/x-python",
   "name": "python",
   "nbconvert_exporter": "python",
   "pygments_lexer": "ipython3",
   "version": "3.8.5 (default, Sep  3 2020, 21:29:08) [MSC v.1916 64 bit (AMD64)]"
  },
  "orig_nbformat": 4,
  "vscode": {
   "interpreter": {
    "hash": "e1cdd51ebff389a9e3e72a04da856762a20abf3adc633b155339fdd9e9833100"
   }
  }
 },
 "nbformat": 4,
 "nbformat_minor": 2
}
