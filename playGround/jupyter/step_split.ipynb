{
 "cells": [
  {
   "cell_type": "code",
   "execution_count": null,
   "metadata": {},
   "outputs": [],
   "source": [
    "import qlib\n",
    "from pathlib import Path\n",
    "from qlib.constant import REG_CN  # 'cn'\n",
    "from qlib.data import D\n",
    "from qlib.data.filter import ExpressionDFilter,NameDFilter\n",
    "from qlib.utils import exists_qlib_data, init_instance_by_config\n",
    "from qlib.workflow import R\n",
    "from qlib.utils import flatten_dict\n",
    "from qlib.workflow.record_temp import SignalRecord, PortAnaRecord\n"
   ]
  },
  {
   "cell_type": "code",
   "execution_count": null,
   "metadata": {},
   "outputs": [],
   "source": [
    "qlib.init(provider_uri={'day': Path(\"E:\\qlib_bin\")}, region=REG_CN)"
   ]
  },
  {
   "cell_type": "code",
   "execution_count": null,
   "metadata": {},
   "outputs": [],
   "source": [
    "# 时间设置\n",
    "start_time = \"2020-01-01\"\n",
    "end_time = \"2023-05-26\"\n",
    "train_start_time = start_time\n",
    "train_end_time = \"2021-12-31\"\n",
    "val_start_time = \"2022-01-01\"\n",
    "val_end_time = \"2022-12-31\"\n",
    "test_start_time = \"2023-01-01\"\n",
    "test_end_time = end_time\n",
    "\n",
    "# 数据处理类handler设置\n",
    "data_handler_config = {\n",
    "    \"start_time\": start_time,\n",
    "    \"end_time\": end_time,\n",
    "    \"fit_start_time\": train_start_time,\n",
    "    \"fit_end_time\": train_end_time,\n",
    "    \"instruments\": \"csi300\"\n",
    "}\n",
    "\n",
    "    # 为model提供数据的dataset类的参数设置\n",
    "dataset =  {\n",
    "    \"class\": \"DatasetH\", \n",
    "    \"module_path\": \"qlib.data.dataset\",\n",
    "    \"kwargs\": {\n",
    "        \"handler\": {\n",
    "            \"class\": \"Alpha158\",\n",
    "            \"module_path\": \"qlib.contrib.data.handler\",\n",
    "            \"kwargs\": data_handler_config,   # 使用上边定义的data_handler_config\n",
    "        },\n",
    "        \"segments\": {\n",
    "            \"train\": (train_start_time, train_end_time), # 训练集时间范围\n",
    "            \"valid\": (val_start_time, val_end_time), # 验证集时间范围\n",
    "            \"test\": (test_start_time, test_end_time),  # 测试集时间范围\n",
    "        },\n",
    "    },\n",
    "}\n",
    "\n",
    "model = {\n",
    "    \"class\": \"XGBModel\", \n",
    "    \"module_path\": \"qlib.contrib.model.xgboost\",\n",
    "    # 模型的超参数\n",
    "    \"kwargs\": {\n",
    "        \"loss\": \"mse\",\n",
    "        \"colsample_bytree\": 0.8879,\n",
    "        \"learning_rate\": 0.0421,\n",
    "        \"max_depth\": 8,\n",
    "        'tree_method': 'gpu_hist',\n",
    "        'gpu_id': 0\n",
    "    },\n",
    "}"
   ]
  },
  {
   "cell_type": "code",
   "execution_count": null,
   "metadata": {},
   "outputs": [],
   "source": [
    "\n",
    "\n",
    "# 训练任务参数设置\n",
    "task = {\n",
    "    # 使用的model的参数设置\n",
    "    ,\n",
    "\n",
    ",\n",
    "}\n",
    "\n",
    "model = init_instance_by_config(task[\"model\"])\n",
    "dataset = init_instance_by_config(task[\"dataset\"])"
   ]
  },
  {
   "cell_type": "code",
   "execution_count": null,
   "metadata": {},
   "outputs": [],
   "source": []
  }
 ],
 "metadata": {
  "kernelspec": {
   "display_name": "qlib",
   "language": "python",
   "name": "python3"
  },
  "language_info": {
   "name": "python",
   "version": "3.8.15 (default, Nov 24 2022, 14:38:14) [MSC v.1916 64 bit (AMD64)]"
  },
  "orig_nbformat": 4,
  "vscode": {
   "interpreter": {
    "hash": "0e2a59c53d0ba92702e2e4c6daf9bcbc1dc36b5640e42abcc3cd7ac0b5dcd9e2"
   }
  }
 },
 "nbformat": 4,
 "nbformat_minor": 2
}
