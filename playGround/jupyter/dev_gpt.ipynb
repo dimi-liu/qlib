{
 "cells": [
  {
   "cell_type": "code",
   "execution_count": 8,
   "metadata": {},
   "outputs": [],
   "source": [
    "import pandas as pd\n",
    "from pathlib import Path\n",
    "\n",
    "import qlib\n",
    "from qlib.data import D\n",
    "from qlib.strategy.base import BaseStrategy"
   ]
  },
  {
   "cell_type": "code",
   "execution_count": 12,
   "metadata": {},
   "outputs": [
    {
     "name": "stderr",
     "output_type": "stream",
     "text": [
      "[22032:MainThread](2023-04-10 18:17:09,809) INFO - qlib.Initialization - [config.py:415] - default_conf: client.\n",
      "[22032:MainThread](2023-04-10 18:17:09,815) INFO - qlib.Initialization - [__init__.py:74] - qlib successfully initialized based on client settings.\n",
      "[22032:MainThread](2023-04-10 18:17:09,816) INFO - qlib.Initialization - [__init__.py:76] - data_path={'__DEFAULT_FREQ': WindowsPath('D:/github/qlib/.qlib/qlib_bin')}\n"
     ]
    }
   ],
   "source": [
    "# 在这里定义路径\n",
    "# 当前绝对路径\n",
    "path_cur = Path.cwd() # D:/github/qlib/playGround/jupyter\n",
    "# 项目根目录\n",
    "path_project_root = path_cur.parent.parent # 绝对路径 ./qlib\n",
    "\n",
    "# 数据路径\n",
    "path_data = path_project_root / Path('./.qlib/qlib_bin')\n",
    "qlib.init(default_conf=\"client\", provider_uri=path_data, region=REG_CN)\n",
    "\n",
    "market = 'csi300'\n",
    "start = '2020-01-01'\n",
    "end = '2023-03-31'\n",
    "\n",
    "mkt_csi300 = D.instruments(market='csi300')   # {'market': 'all', 'filter_pipe': []}\n",
    "fields = ['$open','$close','$high','$low', '$volume', 'Ref($close, 1)', 'Mean($close, 3)', '$high-$low']\n",
    "\n",
    "# market_df = D.features(D.instruments(market), start_time=start_time, end_time=end_time, freq='day')\n",
    "# industry_df = D.features(D.instruments(market), fields=['industry'], start_time=start_time, end_time=end_time, freq='day')\n"
   ]
  },
  {
   "cell_type": "code",
   "execution_count": null,
   "metadata": {},
   "outputs": [],
   "source": [
    "data = D.features(mkt_csi300, fields, start_time=start, end_time=end, freq='day')"
   ]
  },
  {
   "cell_type": "code",
   "execution_count": null,
   "metadata": {},
   "outputs": [],
   "source": []
  },
  {
   "cell_type": "code",
   "execution_count": null,
   "metadata": {},
   "outputs": [],
   "source": []
  },
  {
   "cell_type": "code",
   "execution_count": null,
   "metadata": {},
   "outputs": [],
   "source": [
    "class MyStrategy(BaseStrategy):\n",
    "    def __init__(self):\n",
    "        super().__init__()\n",
    "        self.mean_reversion = False\n",
    "        self.beta_norm = False\n",
    "        self.local_norm = False\n",
    "        self.warm_start = False\n",
    "\n",
    "    def on_data(self, event):\n",
    "        # 获取行情数据\n",
    "        market_df = event.market_df\n",
    "        # 获取行业分类数据\n",
    "        industry_df = event.industry_df\n",
    "\n",
    "        # 转换成收益率数据\n",
    "        return_df = market_df['close'].unstack().pct_change().dropna(how='all', axis=1)\n",
    "\n",
    "        # 标准化收益率数据\n",
    "        norm_df = (return_df - return_df.mean()) / return_df.std()\n",
    "\n",
    "        # 行业因素暴露\n",
    "        industry_exposure_df = pd.get_dummies(industry_df['industry']).reindex(norm_df.columns, fill_value=0)\n",
    "\n",
    "        # 将标准化收益率数据和行业因素暴露数据拼接在一起\n",
    "        features_df = pd.concat([norm_df, industry_exposure_df], axis=1)\n",
    "\n",
    "        # 将NaN值填充为0\n",
    "        features_df = features_df.fillna(0)\n",
    "\n",
    "        # 计算趋势跟随因子\n",
    "        trend_factor = norm_df.apply(lambda x: np.sign(x) * np.abs(x) ** 0.5)\n",
    "\n",
    "        # 计算动量因子\n",
    "        momentum_factor = norm_df.apply(lambda x: x - x.rolling(120).mean())\n",
    "\n",
    "        # 制定交易信号\n",
    "        signal_df = pd.DataFrame(0, index=norm_df.index, columns=norm_df.columns)\n",
    "\n",
    "        # 趋势跟随信号\n",
    "        trend_signal = trend_factor.apply(lambda x: x > x.mean(), axis=1)\n",
    "        signal_df[trend_signal] = 1\n",
    "\n",
    "        # 动量信号\n",
    "        momentum_signal = momentum_factor.apply(lambda x: x > 0, axis=1)\n",
    "        signal_df[momentum_signal] = 1\n",
    "\n",
    "        # 输出交易信号\n",
    "        return signal_df"
   ]
  }
 ],
 "metadata": {
  "kernelspec": {
   "display_name": "Python 3",
   "language": "python",
   "name": "python3"
  },
  "language_info": {
   "codemirror_mode": {
    "name": "ipython",
    "version": 3
   },
   "file_extension": ".py",
   "mimetype": "text/x-python",
   "name": "python",
   "nbconvert_exporter": "python",
   "pygments_lexer": "ipython3",
   "version": "3.7.1 (v3.7.1:260ec2c36a, Oct 20 2018, 14:57:15) [MSC v.1915 64 bit (AMD64)]"
  },
  "orig_nbformat": 4,
  "vscode": {
   "interpreter": {
    "hash": "02e534e49c678f01f1d983f8eeec5ede9b4f6d44871ed31efba165e22060fd9c"
   }
  }
 },
 "nbformat": 4,
 "nbformat_minor": 2
}
